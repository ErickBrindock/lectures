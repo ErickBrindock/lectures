{
 "cells": [
  {
   "cell_type": "markdown",
   "metadata": {},
   "source": [
    "# Computational methods in Physics\n",
    "## Week 3\n",
    "#### Prof. Michael Wood-Vasey\n",
    "##### [based on materials from Prof. Brian D'Urso]\n",
    "##### University of Pittsburgh, Department of Physics and Astronomy"
   ]
  },
  {
   "cell_type": "markdown",
   "metadata": {},
   "source": [
    "## Random Numbers"
   ]
  },
  {
   "cell_type": "markdown",
   "metadata": {},
   "source": [
    "### Deterministic Randomness\n",
    "Some problems are physically unpredictable. Examples:\n",
    "  * thermal motion\n",
    "  * games of chance\n",
    "  * radioactive decay\n",
    "\n",
    "How do we deal with randomness numerically?\n",
    "  * Computers are deterministic; no chance involved.\n",
    "  * Always same output for same input; unless hardware error.\n",
    "  * Generate pseudo-random numbers.\n",
    "  * Monte Carlo calculations: simulate random events.\n",
    "    - Solve equations statistically\n",
    "    - Solve intractable problems"
   ]
  },
  {
   "cell_type": "markdown",
   "metadata": {},
   "source": [
    "### Drawing Random Numbers\n",
    "  * Python has a random module for drawing random numbers\n",
    "  * `random.random()` draws random numbers in `[0, 1)` :  "
   ]
  },
  {
   "cell_type": "code",
   "execution_count": 1,
   "metadata": {
    "collapsed": false
   },
   "outputs": [
    {
     "data": {
      "text/plain": [
       "0.540807306897649"
      ]
     },
     "execution_count": 1,
     "metadata": {},
     "output_type": "execute_result"
    }
   ],
   "source": [
    "import random \n",
    "random.random()"
   ]
  },
  {
   "cell_type": "code",
   "execution_count": 3,
   "metadata": {
    "collapsed": false
   },
   "outputs": [
    {
     "data": {
      "text/plain": [
       "0.18360237317527406"
      ]
     },
     "execution_count": 3,
     "metadata": {},
     "output_type": "execute_result"
    }
   ],
   "source": [
    "random.random()  "
   ]
  },
  {
   "cell_type": "code",
   "execution_count": 4,
   "metadata": {
    "collapsed": false
   },
   "outputs": [
    {
     "data": {
      "text/plain": [
       "0.9561737381914022"
      ]
     },
     "execution_count": 4,
     "metadata": {},
     "output_type": "execute_result"
    }
   ],
   "source": [
    "random.random()"
   ]
  },
  {
   "cell_type": "code",
   "execution_count": 5,
   "metadata": {
    "collapsed": false
   },
   "outputs": [
    {
     "data": {
      "text/plain": [
       "[0.7283521856913555,\n",
       " 0.5853445433269724,\n",
       " 0.11517033067611193,\n",
       " 0.5591963047915448,\n",
       " 0.6720681308825732,\n",
       " 0.11657849598068848,\n",
       " 0.46806351387003575,\n",
       " 0.5545008067610958,\n",
       " 0.6393993553452167,\n",
       " 0.6409872753056759]"
      ]
     },
     "execution_count": 5,
     "metadata": {},
     "output_type": "execute_result"
    }
   ],
   "source": [
    "[random.random() for i in range(10)]"
   ]
  },
  {
   "cell_type": "markdown",
   "metadata": {},
   "source": [
    "  * The sequence of random numbers is produced by a deterministic algorithm - the numbers just appear random."
   ]
  },
  {
   "cell_type": "markdown",
   "metadata": {},
   "source": [
    "### Distributions of Random Numbers}\n",
    "  * `random.random()` generates random numbers that are uniformly\n",
    "distributed in the interval $[0, 1)$.\n",
    "  * `random.uniform(a, b)` generates random numbers uniformly\n",
    "distributed in $[a, b)$.\n",
    "  * \"Uniformly distributed\" means that if we generate a large set\n",
    "of numbers, no part of $[a, b)$ gets more numbers than others.\n",
    "  * See `random_distribution` demo."
   ]
  },
  {
   "cell_type": "markdown",
   "metadata": {},
   "source": [
    "### Vectorized Drawing of Random Numbers\n",
    "  * `random.random()` generates one number at a time"
   ]
  },
  {
   "cell_type": "code",
   "execution_count": 8,
   "metadata": {
    "collapsed": false
   },
   "outputs": [
    {
     "data": {
      "text/plain": [
       "0.4738886834353141"
      ]
     },
     "execution_count": 8,
     "metadata": {},
     "output_type": "execute_result"
    }
   ],
   "source": [
    "random.random() # one number  "
   ]
  },
  {
   "cell_type": "code",
   "execution_count": 9,
   "metadata": {
    "collapsed": false
   },
   "outputs": [
    {
     "data": {
      "text/plain": [
       "5.603479177784365"
      ]
     },
     "execution_count": 9,
     "metadata": {},
     "output_type": "execute_result"
    }
   ],
   "source": [
    "random.uniform(-1, 10) # one number    "
   ]
  },
  {
   "cell_type": "markdown",
   "metadata": {},
   "source": [
    "  * `numpy` has a random module that efficiently generates a (large)\n",
    "number of random numbers at a time:  "
   ]
  },
  {
   "cell_type": "code",
   "execution_count": 12,
   "metadata": {
    "collapsed": false
   },
   "outputs": [],
   "source": [
    "import numpy as np\n",
    "r = np.random.random(size=1000) # array\n",
    "r = np.random.uniform(-1, 10, size=1000) # array"
   ]
  },
  {
   "cell_type": "markdown",
   "metadata": {},
   "source": [
    "  * Vectorized calculations are important for speeding up programs!"
   ]
  },
  {
   "cell_type": "markdown",
   "metadata": {},
   "source": [
    "### Drawing Integers\n",
    "  * Quite often we want to draw an integer from $[a, b]$ and not a\n",
    "real number.\n",
    "  * Python's `random` module and `numpy.random` have functions for\n",
    "drawing uniformly distributed integers:"
   ]
  },
  {
   "cell_type": "code",
   "execution_count": 14,
   "metadata": {
    "collapsed": false
   },
   "outputs": [],
   "source": [
    "(a, b) = (-1, 10)\n",
    "import random  \n",
    "r = random.randint(a, b) # a, a+1, ..., b"
   ]
  },
  {
   "cell_type": "code",
   "execution_count": 16,
   "metadata": {
    "collapsed": false
   },
   "outputs": [],
   "source": [
    "N = 100\n",
    "import numpy as np  \n",
    "r = np.random.randint(a, b+1, N)  # b+1 is not included  \n",
    "r = np.random.random_integers(a, b, N)  # b is included  "
   ]
  },
  {
   "cell_type": "markdown",
   "metadata": {},
   "source": [
    "### Example: Throwing a Die; Vectorized Version\n",
    "```\n",
    " import numpy as np  \n",
    " N = 10   \n",
    " eyes = np.random.randint(1, 7, N)   \n",
    " # True/False array   \n",
    " success = eyes == 6   \n",
    " # treats True as 1, False as 0   \n",
    " six = np.sum(success)   \n",
    " print 'Got six %d times out of %d' % (six, N) \n",
    "```\n",
    "  * Important: use `numpy.sum` and not the default `sum` function! (The latter is slow.)"
   ]
  },
  {
   "cell_type": "markdown",
   "metadata": {},
   "source": [
    "### Fixing the Seed Fixes the Random Sequence\n",
    "  * Debugging programs with random numbers is difficult because\n",
    "the numbers produced vary each time we run the program.\n",
    "  * For debugging it is important that a new run reproduces the\n",
    "sequence of random numbers in the last run.\n",
    "  * This is possible by fixing the seed of the random module:  \n",
    "`random.seed(121) # int argument`\n",
    "  * Or the numpy module:\n",
    "`np.random.seed(121) # int argument`\n",
    "  * The value of the seed determines the random sequence:"
   ]
  },
  {
   "cell_type": "code",
   "execution_count": 18,
   "metadata": {
    "collapsed": false
   },
   "outputs": [
    {
     "name": "stdout",
     "output_type": "stream",
     "text": [
      "None\n",
      "[ 0.4359949   0.02592623  0.54966248]\n"
     ]
    }
   ],
   "source": [
    "import numpy as np   \n",
    "print(np.random.seed(2))\n",
    "print(np.random.random(3))"
   ]
  },
  {
   "cell_type": "markdown",
   "metadata": {},
   "source": [
    "### Distributions of Random Numbers\n",
    "  * Sometimes we want uniformly distributed random numbers,\n",
    "and sometimes not.\n",
    "  * Example: it is more likely have normal (mean) blood pressure\n",
    "than large deviations from the mean.\n",
    "  * We can use the Gaussian (or \"normal\") distribution to get random\n",
    "numbers clustered around a mean value `m` with a std deviation `s`:  "
   ]
  },
  {
   "cell_type": "code",
   "execution_count": 21,
   "metadata": {
    "collapsed": false
   },
   "outputs": [
    {
     "name": "stdout",
     "output_type": "stream",
     "text": [
      "51.6901688035168\n"
     ]
    }
   ],
   "source": [
    "(m, s) = (50, 15)\n",
    "import random   \n",
    "r = random.normalvariate(m, s)\n",
    "print(r)"
   ]
  },
  {
   "cell_type": "markdown",
   "metadata": {},
   "source": [
    "  * Vectorized drawing of $N$ Gaussian/normal numbers:  "
   ]
  },
  {
   "cell_type": "code",
   "execution_count": 23,
   "metadata": {
    "collapsed": false
   },
   "outputs": [
    {
     "name": "stdout",
     "output_type": "stream",
     "text": [
      "[ 49.5924724   49.672053    28.40832832  63.63630376  36.17425089\n",
      "  39.51247393  46.36999887  22.77877552  67.8314151   52.55741762\n",
      "  59.98877928  31.32869297  60.61000434  37.59752228  66.84990112\n",
      "  58.6266494   42.28138996  53.82952545  48.80114908  46.06094587\n",
      "  41.14605342  51.77526865  74.48591031  34.75702576  54.42181957\n",
      "  46.4512658   79.68209055  33.22627516  62.41422582  27.42658134\n",
      "  48.97119876  58.97803958  44.74641233  29.37848704  56.0450626\n",
      "   6.01540857  41.16028011  50.49713556  47.2588583   31.51853097\n",
      "  64.51920328  60.87790791  50.23109795  73.04556974  48.29895836\n",
      "  54.62120876  74.97455106  48.13557751  46.13704801  66.15989914\n",
      "  47.22173867  67.47705507  54.40756255  39.1731444   36.63452217\n",
      "  40.31664277  60.34803272  47.28688141  62.13182589  52.04589533\n",
      "  50.17163943  78.53916753  27.24915623  50.49249942  65.35972821\n",
      "  52.58507276  63.57013308  57.03948959  46.09681569  53.34634548\n",
      "  32.84762058  40.97535957  54.68660297  55.88981668  63.1121404\n",
      "  21.36395066  57.04558562  56.45282255  59.98084941  37.27056332\n",
      "  47.66536603  35.8729946   55.80801419  45.7408517   64.6336008\n",
      "  65.09253357  39.29712149  67.06484122  59.06838749  30.52089382\n",
      "  60.04303686  48.033596    31.2418042   73.62651167  44.86976296\n",
      "  65.28300917  57.81770474  41.07120673  24.62168961  47.06760236]\n"
     ]
    }
   ],
   "source": [
    "(m, s, N) = (50, 15, 100)\n",
    "import numpy as np   \n",
    "samples = np.random.normal(m, s, N) \n",
    "print(samples)"
   ]
  },
  {
   "cell_type": "markdown",
   "metadata": {},
   "source": [
    "### Probability via Monte Carlo Simulation\n",
    "  * What is the probability that a certain event A happens?\n",
    "    1. Simulate $N$ events\n",
    "    2. Count how many times $M$ the event $A$ happens\n",
    "    3. The probability of the event $A$ is then $M/N$ (as $N \\rightarrow \\infty$).\n",
    "  * Example: what is the probability of getting 6 on two or more\n",
    "dice if we throw 4 dice?  "
   ]
  },
  {
   "cell_type": "code",
   "execution_count": 34,
   "metadata": {
    "collapsed": false
   },
   "outputs": [
    {
     "name": "stdout",
     "output_type": "stream",
     "text": [
      "probability of getting 6 on two or more dice out of 4 dice is:\n",
      "0.133590 based on 100000 trials\n"
     ]
    }
   ],
   "source": [
    " N = 100000 # number of experiments   \n",
    " M = 0 # number of successful events   \n",
    " for i in range(N):   \n",
    "     six = 0 # count the number of dice with a six   \n",
    "     dice_1 = random.randint(1, 6)   \n",
    "     dice_2 = random.randint(1, 6)   \n",
    "     dice_3 = random.randint(1, 6)   \n",
    "     dice_4 = random.randint(1, 6)   \n",
    "\n",
    "     if dice_1 == 6: six += 1   \n",
    "     if dice_2 == 6: six += 1   \n",
    "     if dice_3 == 6: six += 1   \n",
    "     if dice_4 == 6: six += 1   \n",
    "\n",
    "     # successful event?   \n",
    "     if six >= 2:   \n",
    "         M += 1 \n",
    "        \n",
    "print('probability of getting 6 on two or more dice out of 4 dice is:')\n",
    "print('%f based on %d trials' % (float(M)/N, N))"
   ]
  },
  {
   "cell_type": "markdown",
   "metadata": {},
   "source": [
    "## Random Walks"
   ]
  },
  {
   "cell_type": "markdown",
   "metadata": {},
   "source": [
    "### Random Walk in One Spatial Dimension\n",
    "  * A particle moves to the left and right with equal probability\n",
    "  * $n$ particles start at $x = 0$ at time $t = 0$ - how do the particles\n",
    "get distributed over time?\n",
    "  * This is called a random walk and constitutes a simple model for\n",
    "molecular motion in many situations:\n",
    "    - heat transport\n",
    "    - quantum mechanics\n",
    "    - polymer chains\n",
    "    - population genetics\n",
    "    - pricing of financial instruments\n",
    "    - ...\n",
    "  * We'll make a program for simulating random walk."
   ]
  },
  {
   "cell_type": "markdown",
   "metadata": {},
   "source": [
    "### Random Walk as a Difference Equation\n",
    "  * Let $x_n$ be the position of one particle at time $n$.\n",
    "  * Updating rule: $x_{n+1} = x_n + s$  \n",
    "where $s = 1$ or $s = -1$, both with probability $1/2$.\n",
    "  * For $n_p$ particles, we need $n_p$ such difference equations.\n",
    "  * Would like to calculate the statistics (mean position, \"width\" of the cluster of particles, how particles are distributed throughout space).\n",
    "  * Random walk in 2-D:\n",
    "    - $x_{n+1} = x_n + r_x$\n",
    "    - $y_{n+1} = y_n + r_y$\n",
    "    - $r_x = r \\cos\\theta$, $r_y = r \\sin\\theta$, with random $\\theta$"
   ]
  },
  {
   "cell_type": "markdown",
   "metadata": {},
   "source": [
    "### How Far After $N$ Steps (in 2-D)?\n",
    "  * Start at $(x, y) = (0, 0)$.\n",
    "  * After $N$ steps:  \n",
    "$R^2 = (\\Delta x_1 + \\cdots + \\Delta x_N)^2 + (\\Delta y_1 + \\cdots + \\Delta y_N)^2$\n",
    "  * Expand:  \n",
    "$R^2 = \\Delta x_1^2 + \\cdots + \\Delta x_N^2 + 2 \\Delta x_1 \\Delta x_2 + \\cdots  \n",
    "+ \\Delta y_1^2 + \\cdots + \\Delta y_N^2 + 2 \\Delta y_1 \\Delta y_2 + \\cdots$\n",
    "  * Cross terms average to zero:  \n",
    "$R^2 \\simeq \\Delta x_1^2 + \\cdots + \\Delta x_N^2 + \\Delta y_1^2 + \\cdots + \\Delta y_N^2$\n",
    "  * $\\Rightarrow R^2 \\simeq N \\langle r^2 \\rangle$\n",
    "  * $\\Rightarrow R \\simeq \\sqrt{N} r_{RMS}$"
   ]
  },
  {
   "cell_type": "markdown",
   "metadata": {},
   "source": [
    "## Radioactive Decay\n",
    "### Spontaneous (e.g. Radioactive) Decay\n",
    "  * \"Spontaneous\" process $\\rightarrow$ no external stimulus.\n",
    "  * Time of decay is random, independent of:\n",
    "    - How long it existed.\n",
    "    - How many other are around.\n",
    "  * Describes nuclear decay, electronic relaxation, etc.\n",
    "  * Theory: probability of decay per $\\Delta t$ per particle is:   \n",
    "$P(t)=\\lambda$ (constant)    \n",
    "$\\Rightarrow$ $N(t)$, $dN/dt$ decrease with time.  "
   ]
  },
  {
   "cell_type": "markdown",
   "metadata": {},
   "source": [
    "### Model: Continuous Decay\n",
    "  * If $N\\rightarrow \\infty$, $\\Delta t \\rightarrow 0$:  \n",
    "$\\frac{\\Delta N(t)}{\\Delta t} \\rightarrow \\frac{dN(t)}{dt} = -\\lambda N(t)$\n",
    "  * Can integrate differential equation:  \n",
    "$N(t) = N(0) e^{-\\lambda t} = N(0) e^{-t/\\tau}$  \n",
    "with $\\lambda = 1/\\tau$\n",
    "  * $\\frac{dN}{dt}(t) = -\\lambda N(0) e^{-\\lambda t} = \\frac{dN}{dt}(0) e^{-t/\\tau}$\n",
    "  * But this is an approximation!  \n",
    "Nature can have small $N$, stochastic behavior."
   ]
  },
  {
   "cell_type": "markdown",
   "metadata": {},
   "source": [
    "### Method: Decay Simulation\n",
    "  * Algorithm:  \n",
    "Loop through remaining nuclei   \n",
    "$r_i < \\lambda$? $\\Rightarrow$ decays   \n",
    "$t = t + \\Delta t$   \n",
    "Repeat loop  \n",
    "  * $r_i$ is random number in $[0, 1]$.\n",
    "  * Higher $\\lambda\\Rightarrow$ more frequent decays."
   ]
  },
  {
   "cell_type": "code",
   "execution_count": null,
   "metadata": {
    "collapsed": true
   },
   "outputs": [],
   "source": []
  }
 ],
 "metadata": {
  "kernelspec": {
   "display_name": "Python 3",
   "language": "python",
   "name": "python3"
  },
  "language_info": {
   "codemirror_mode": {
    "name": "ipython",
    "version": 3
   },
   "file_extension": ".py",
   "mimetype": "text/x-python",
   "name": "python",
   "nbconvert_exporter": "python",
   "pygments_lexer": "ipython3",
   "version": "3.4.3"
  }
 },
 "nbformat": 4,
 "nbformat_minor": 0
}
