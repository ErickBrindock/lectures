{
 "cells": [
  {
   "cell_type": "markdown",
   "metadata": {},
   "source": [
    "# Computational methods in Physics\n",
    "## Week 3\n",
    "#### Prof. Michael Wood-Vasey\n",
    "##### [based on materials from Prof. Brian D'Urso]\n",
    "##### University of Pittsburgh, Department of Physics and Astronomy"
   ]
  },
  {
   "cell_type": "markdown",
   "metadata": {},
   "source": [
    "## Random Numbers"
   ]
  },
  {
   "cell_type": "markdown",
   "metadata": {},
   "source": [
    "### Deterministic Randomness\n",
    "Some problems are physically unpredictable. Examples:\n",
    "  * thermal motion\n",
    "  * games of chance\n",
    "  * radioactive decay\n",
    "\n",
    "How do we deal with randomness numerically?\n",
    "  * Computers are deterministic; no chance involved.\n",
    "  * Always same output for same input; unless hardware error.\n",
    "  * Generate pseudo-random numbers.\n",
    "  * Monte Carlo calculations: simulate random events.\n",
    "    - Solve equations statistically\n",
    "    - Solve intractable problems"
   ]
  },
  {
   "cell_type": "markdown",
   "metadata": {},
   "source": [
    "### Drawing Random Numbers\n",
    "  * Python has a random module for drawing random numbers\n",
    "  * `random.random()` \n",
    "draws random numbers in `[0, 1)` :  \n",
    "`>>> import random`  \n",
    "`>>> random.random()`  \n",
    "`0.81550546885338104`  \n",
    "`>>> random.random()`  \n",
    "`0.44913326809029852`  \n",
    "`>>> random.random()`  \n",
    "`0.88320653116367454`  \n",
    "  * The sequence of random numbers is produced by a\n",
    "deterministic algorithm - the numbers just appear random."
   ]
  },
  {
   "cell_type": "markdown",
   "metadata": {},
   "source": [
    "### Distributions of Random Numbers}\n",
    "  * `random.random()` generates random numbers that are uniformly\n",
    "distributed in the interval $[0, 1)$.\n",
    "  * `random.uniform(a, b)` generates random numbers uniformly\n",
    "distributed in $[a, b)$.\n",
    "  * \"Uniformly distributed\" means that if we generate a large set\n",
    "of numbers, no part of $[a, b)$ gets more numbers than others.\n",
    "  * See `random_distribution` demo."
   ]
  },
  {
   "cell_type": "markdown",
   "metadata": {},
   "source": [
    "### Vectorized Drawing of Random Numbers\n",
    "  * `random.random()` generates one number at a time  \n",
    "`r = random.random()` # one number\n",
    "`r = random.uniform(-1, 10)` # one number  \n",
    "  * `numpy` has a random module that efficiently generates a (large)\n",
    "number of random numbers at a time:  \n",
    "```\n",
    "import numpy as np\n",
    "r = np.random.random(size=1000) # array\n",
    "r = np.random.uniform(-1, 10, size=1000) # array\n",
    "```\n",
    "  * Vectorized calculations are important for speeding up programs!"
   ]
  },
  {
   "cell_type": "markdown",
   "metadata": {},
   "source": [
    "### Drawing Integers\n",
    "  * Quite often we want to draw an integer from $[a, b]$ and not a\n",
    "real number.\n",
    "  * Python's `random` module and `numpy.random` have functions for\n",
    "drawing uniformly distributed integers:\n",
    "```\n",
    "import random \n",
    "r = random.randint(a, b) # a, a+1, ..., b\n",
    "```\n",
    "\n",
    "```\n",
    "import numpy as np\n",
    "# b+1 is not included  \n",
    "r = np.random.randint(a, b+1, N)  \n",
    "# b is included  \n",
    "r = np.random.random_integers(a, b, N)  \n",
    "```"
   ]
  },
  {
   "cell_type": "markdown",
   "metadata": {},
   "source": [
    "### Example: Throwing a Die; Vectorized Version\n",
    "```\n",
    " import numpy as np  \n",
    " N = 10   \n",
    " eyes = np.random.randint(1, 7, N)   \n",
    " # True/False array   \n",
    " success = eyes == 6   \n",
    " # treats True as 1, False as 0   \n",
    " six = np.sum(success)   \n",
    " print 'Got six %d times out of %d' % (six, N) \n",
    "```\n",
    "  * Important: use `numpy.sum` and not the default `sum` function! (The latter is slow.)"
   ]
  },
  {
   "cell_type": "markdown",
   "metadata": {},
   "source": [
    "### Fixing the Seed Fixes the Random Sequence\n",
    "  * Debugging programs with random numbers is difficult because\n",
    "the numbers produced vary each time we run the program.\n",
    "  * For debugging it is important that a new run reproduces the\n",
    "sequence of random numbers in the last run.\n",
    "  * This is possible by fixing the seed of the random module:  \n",
    "`random.seed(121) # int argument`\n",
    "  * Or the numpy module:\n",
    "`np.random.seed(121) # int argument`\n",
    "  * The value of the seed determines the random sequence:\n",
    "```\n",
    " import numpy as np   \n",
    " np.random.seed(2)   \n",
    " np.random.random(3) \n",
    "```"
   ]
  },
  {
   "cell_type": "markdown",
   "metadata": {},
   "source": [
    "### Distributions of Random Numbers\n",
    "  * Sometimes we want uniformly distributed random numbers,\n",
    "and sometimes not.\n",
    "  * Example: it is more likely have normal (mean) blood pressure\n",
    "than large deviations from the mean.\n",
    "  * We can use the Gaussian (or \"normal\") distribution to get random\n",
    "numbers clustered around a mean value:  \n",
    "```\n",
    " import random   \n",
    " r = random.normalvariate(m, s)   \n",
    "```\n",
    "where `m`: mean value,  `s`: standard deviation\n",
    "  * Vectorized drawing of $N$ Gaussian/normal numbers:  \n",
    "```\n",
    " import numpy as np   \n",
    " samples = np.random.normal(m, s, N) \n",
    "```\n",
    "  * We are using mostly uniformly distributed numbers."
   ]
  },
  {
   "cell_type": "markdown",
   "metadata": {},
   "source": [
    "### Probability via Monte Carlo Simulation\n",
    "  * What is the probability that a certain event A happens?\n",
    "    1. Simulate $N$ events\n",
    "    2. Count how many times $M$ the event $A$ happens\n",
    "    3. The probability of the event $A$ is then $M/N$ (as $N \\rightarrow \\infty$).\n",
    "  * Example: what is the probability of getting 6 on two or more\n",
    "dice if we throw 4 dice?  \n",
    "```\n",
    " N = 100000 # number of experiments   \n",
    " M = 0 # number of successful events   \n",
    " for i in range(N):   \n",
    "     six = 0 # count the number of dice with a six   \n",
    "     r1 = random.randint(1, 6)   \n",
    "     if r1 == 6: six += 1   \n",
    "     ... same for dice 2, 3 and 4 ...   \n",
    "     # successful event?   \n",
    "     if six >= 2:   \n",
    "         M += 1   \n",
    " print 'probability:', float(M)/N \n",
    "```"
   ]
  },
  {
   "cell_type": "markdown",
   "metadata": {},
   "source": [
    "## Random Walks"
   ]
  },
  {
   "cell_type": "markdown",
   "metadata": {},
   "source": [
    "### Random Walk in One Spatial Dimension\n",
    "  * A particle moves to the left and right with equal probability\n",
    "  * $n$ particles start at $x = 0$ at time $t = 0$ - how do the particles\n",
    "get distributed over time?\n",
    "  * This is called a random walk and constitutes a simple model for\n",
    "molecular motion in many situations:\n",
    "    - heat transport\n",
    "    - quantum mechanics\n",
    "    - polymer chains\n",
    "    - population genetics\n",
    "    - pricing of financial instruments\n",
    "    - ...\n",
    "  * We'll make a program for simulating random walk."
   ]
  },
  {
   "cell_type": "markdown",
   "metadata": {},
   "source": [
    "### Random Walk as a Difference Equation\n",
    "  * Let $x_n$ be the position of one particle at time $n$.\n",
    "  * Updating rule: $x_{n+1} = x_n + s$  \n",
    "where $s = 1$ or $s = -1$, both with probability $1/2$.\n",
    "  * For $n_p$ particles, we need $n_p$ such difference equations.\n",
    "  * Would like to calculate the statistics (mean position, \"width\" of the cluster of particles, how particles are distributed throughout space).\n",
    "  * Random walk in 2-D:\n",
    "    - $x_{n+1} = x_n + r_x$\n",
    "    - $y_{n+1} = y_n + r_y$\n",
    "    - $r_x = r \\cos\\theta$, $r_y = r \\sin\\theta$, with random $\\theta$"
   ]
  },
  {
   "cell_type": "markdown",
   "metadata": {},
   "source": [
    "### How Far After $N$ Steps (in 2-D)?\n",
    "  * Start at $(x, y) = (0, 0)$.\n",
    "  * After $N$ steps:  \n",
    "$R^2 = (\\Delta x_1 + \\cdots + \\Delta x_N)^2 + (\\Delta y_1 + \\cdots + \\Delta y_N)^2$\n",
    "  * Expand:  \n",
    "$R^2 = \\Delta x_1^2 + \\cdots + \\Delta x_N^2 + 2 \\Delta x_1 \\Delta x_2 + \\cdots  \n",
    "+ \\Delta y_1^2 + \\cdots + \\Delta y_N^2 + 2 \\Delta y_1 \\Delta y_2 + \\cdots$\n",
    "  * Cross terms average to zero:  \n",
    "$R^2 \\simeq \\Delta x_1^2 + \\cdots + \\Delta x_N^2 + \\Delta y_1^2 + \\cdots + \\Delta y_N^2$\n",
    "  * $\\Rightarrow R^2 \\simeq N \\langle r^2 \\rangle$\n",
    "  * $\\Rightarrow R \\simeq \\sqrt{N} r_{RMS}$"
   ]
  },
  {
   "cell_type": "markdown",
   "metadata": {},
   "source": [
    "## Radioactive Decay\n",
    "### Spontaneous (e.g. Radioactive) Decay\n",
    "  * \"Spontaneous\" process $\\rightarrow$ no external stimulus.\n",
    "  * Time of decay is random, independent of:\n",
    "    - How long it existed.\n",
    "    - How many other are around.\n",
    "  * Describes nuclear decay, electronic relaxation, etc.\n",
    "  * Theory: probability of decay per $\\Delta t$ per particle is:   \n",
    "$P(t)=\\lambda$ (constant)    \n",
    "$\\Rightarrow$ $N(t)$, $dN/dt$ decrease with time.  "
   ]
  },
  {
   "cell_type": "markdown",
   "metadata": {},
   "source": [
    "### Model: Continuous Decay\n",
    "  * If $N\\rightarrow \\infty$, $\\Delta t \\rightarrow 0$:  \n",
    "$\\frac{\\Delta N(t)}{\\Delta t} \\rightarrow \\frac{dN(t)}{dt} = -\\lambda N(t)$\n",
    "  * Can integrate differential equation:  \n",
    "$N(t) = N(0) e^{-\\lambda t} = N(0) e^{-t/\\tau}$  \n",
    "with $\\lambda = 1/\\tau$\n",
    "  * $\\frac{dN}{dt}(t) = -\\lambda N(0) e^{-\\lambda t} = \\frac{dN}{dt}(0) e^{-t/\\tau}$\n",
    "  * But this is an approximation!  \n",
    "Nature can have small $N$, stochastic behavior."
   ]
  },
  {
   "cell_type": "markdown",
   "metadata": {},
   "source": [
    "### Method: Decay Simulation\n",
    "  * Algorithm:  \n",
    "Loop through remaining nuclei   \n",
    "$r_i < \\lambda$? $\\Rightarrow$ decays   \n",
    "$t = t + \\Delta t$   \n",
    "Repeat loop  \n",
    "  * $r_i$ is random number in $[0, 1]$.\n",
    "  * Higher $\\lambda\\Rightarrow$ more frequent decays.\n",
    "  * See `decay_simulator` demonstration."
   ]
  }
 ],
 "metadata": {
  "kernelspec": {
   "display_name": "Python 3",
   "language": "python",
   "name": "python3"
  },
  "language_info": {
   "codemirror_mode": {
    "name": "ipython",
    "version": 3
   },
   "file_extension": ".py",
   "mimetype": "text/x-python",
   "name": "python",
   "nbconvert_exporter": "python",
   "pygments_lexer": "ipython3",
   "version": "3.4.3"
  }
 },
 "nbformat": 4,
 "nbformat_minor": 0
}
