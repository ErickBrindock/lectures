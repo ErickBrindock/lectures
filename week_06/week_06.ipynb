{
 "cells": [
  {
   "cell_type": "markdown",
   "metadata": {},
   "source": [
    "# Computational methods in Physics\n",
    "## Week 6\n",
    "#### Prof. Michael Wood-Vasey\n",
    "##### [based on materials from Prof. Brian D'Urso]\n",
    "##### University of Pittsburgh, Department of Physics and Astronomy"
   ]
  },
  {
   "cell_type": "markdown",
   "metadata": {},
   "source": [
    "## Linear algebra\n",
    "\n",
    "## Overview\n",
    "This week's topics:\n",
    "* Writing and reading arrays to/from files.\n",
    "* Linear algebra and matrix methods.\n",
    "* Multidimensional root finding and minimization.\n",
    "* Curve fitting."
   ]
  },
  {
   "cell_type": "markdown",
   "metadata": {},
   "source": [
    "### Matrices\n",
    "\n",
    "#### Creating Arrays in Numpy\n",
    "* Creating arrays:\n",
    "  * Online documentation:\n",
    "    http://docs.scipy.org/doc/numpy/reference/routines.array-creation.html\n",
    "* Writing to a file:\n",
    "  * Online documentation:\n",
    "    http://docs.scipy.org/doc/numpy/reference/generated/numpy.savetxt.html\n",
    "  * Python help:\n",
    "  `help(numpy.savetxt)`\n",
    "* Loading from a file:\n",
    "  * Online documentation:\n",
    "  http://docs.scipy.org/doc/numpy/reference/generated/numpy.loadtxt.html\n",
    "  * Python help:\n",
    "  `help(numpy.loadtxt)`\n",
    "* There are other fileIO functions:\n",
    "  e.g. `numpy.load` and `numpy.save`.\n",
    "* and other formats (e.g., `hdf`) and frameworks (e.g., `astropy.Tables`)."
   ]
  },
  {
   "cell_type": "markdown",
   "metadata": {},
   "source": [
    "#### Examples: Arrays and Files\n",
    "* Setup:\n",
    "```\n",
    "import numpy as np\n",
    "A = np.array([[0.0, 2.5, 3.2],\n",
    "              [1.0, 5.6, 8.9],\n",
    "              [2.0, 7.1, 3.7],\n",
    "              [3.0, 4.2, 9.3]]\n",
    "```\n",
    "* Save $\\mathbf{A}$ to a file:\n",
    "```\n",
    " np.savetxt('A_test.csv', A,\n",
    "            delimiter=',', fmt='%g')\n",
    "```\n",
    "* Load the array back from the file:\n",
    "```\n",
    "B = np.loadtxt('A_test.csv',\n",
    "               delimiter=',')\n",
    "```"
   ]
  },
  {
   "cell_type": "markdown",
   "metadata": {},
   "source": [
    "### Linear Algebra\n",
    "\n",
    "#### Linear Algebra Problems\n",
    "* The basic linear algebra problem is a set of $m$ simultaneous linear equations with $n$ unknowns:\n",
    "\\begin{equation*}\n",
    "\\begin{matrix}\n",
    " \\alpha_{0,0}x_0   &+& \\alpha_{0,1}x_1   &+& \\cdots &+& \\alpha_{0,n-1}x_{n-1}  &=& b_0\n",
    " \\alpha_{1,0}x_0   &+& \\alpha_{1,1}x_1   &+& \\cdots &+& \\alpha_{1,n-1}x_{n-1}  &=& b_1\n",
    " \\vdots            &+& \\vdots            &+& \\ddots &+& \\vdots                 &=& \\vdots\n",
    " \\alpha_{m-1,0}x_0 &+& \\alpha_{m-1,1}x_1 &+& \\cdots &+& \\alpha_{m-1,n-1}x_{n-1}&=& b_{m-1}\n",
    "\\end{matrix}\n",
    "\\end{equation*}\n",
    "* Typically, we know $\\alpha_{i,j}$ and $b_i$, and want to find $x_j$.\n",
    "* If $m>n$, the system is overdetermined.\n",
    "* If $m<n$, the system is underdetermined.\n",
    "* We will look primarily at the case $n=m$."
   ]
  },
  {
   "cell_type": "markdown",
   "metadata": {},
   "source": [
    "#### Matrix Representation\n",
    "* Computers are better able to handle equations as matrix equations.\n",
    "* Matrix representation:\n",
    "\\begin{equation*}\n",
    "\\begin{pmatrix}\n",
    "\\alpha_{0,0}   & \\alpha_{0,1}   & \\cdots & \\alpha_{0,n-1}\n",
    "\\alpha_{1,0}   & \\alpha_{1,1}   & \\cdots & \\alpha_{1,n-1}\n",
    "\\vdots         & \\vdots         & \\ddots & \\vdots\n",
    "\\alpha_{m-1,0} & \\alpha_{m-1,1} & \\cdots & \\alpha_{m-1,n-1}\n",
    "\\end{pmatrix}\n",
    "\\begin{pmatrix}\n",
    "x_0\n",
    "x_1\n",
    "\\vdots\n",
    "x_{n-1}\n",
    "\\end{pmatrix}\n",
    "=\n",
    "\\begin{pmatrix}\n",
    "b_0\n",
    "b_1\n",
    "\\vdots\n",
    "b_{n-1}\n",
    "\\end{pmatrix}\n",
    "\\end{equation*}\n",
    "* We can write this set of equations in a compact form, writing the matrix as $\\mathbf{A}$:\n",
    "\\begin{equation*}\n",
    "\\mathbf{A}\\vec{x} = \\vec{b}\n",
    "\\end{equation*}\n",
    "* Here $\\mathbf{A}$ is a square matrix."
   ]
  },
  {
   "cell_type": "markdown",
   "metadata": {},
   "source": [
    "#### Classes of Matrix Problems\n",
    "$\\mathbf{A}\\vec{x}=\\vec{b}$\n",
    "* $\\mathbf{A}$ is a known $N \\times N$ matrix.\n",
    "* $\\vec{x}$ is an unknown vector of length $N$.\n",
    "* $\\vec{b}$ is a known vector of length $N$.\n",
    "* Solve with Gaussian elimination\n",
    " or lower-upper (LU) decomposition.\n",
    "* Slower: solve by finding $\\mathbf{A}^{-1}$, then $\\vec{x}=\\mathbf{A}^{-1}\\vec{b}$.\n",
    "$\\mathbf{A}\\vec{x}=\\lambda\\vec{x}$\n",
    "* Eigenvector $\\vec{x}$ is an unknown vector of length $N$.\n",
    "* Eigenvalue $\\lambda$ is an unknown parameter.\n",
    "* $\\mathbf{A}^{-1}$ doesn't help! Need specialized solver.\n",
    "* Can shown that $\\textrm{det}[\\mathbf{A}-\\lambda\\mathbf{I}] = 0$ for eigenvalues $\\lambda$."
   ]
  },
  {
   "cell_type": "markdown",
   "metadata": {},
   "source": [
    "#### Linear Algebra Routines\n",
    "* We *will* solve linear algebra problems with \"canned\" routines.\n",
    "* Eigensystems, matrix multiplication, inverses, determinants, etc.\n",
    "* Many tested and optimized packages available:\n",
    "NETLIB, LAPACK, SLATEC, BLAS, \\ldots\n",
    "* Writing custom solvers \"from scratch\" is not usually worthwhile for these.\n",
    "* NumPy and SciPy wrap some of these.\n",
    "* We will primarily use the NumPy routines in `numpy.linalg`."
   ]
  },
  {
   "cell_type": "markdown",
   "metadata": {},
   "source": [
    "#### Linear Algebra in Numpy\n",
    "Common linear algebra functions available in `numpy`:\n",
    "* Online documentation:\n",
    "  http://docs.scipy.org/doc/numpy/reference/routines.linalg.html\n",
    "* Python help:\n",
    "  `help(numpy.linalg)`"
   ]
  },
  {
   "cell_type": "markdown",
   "metadata": {},
   "source": [
    "#### Examples: Solving Linear Systems\n",
    "* Setup matrices:"
   ]
  },
  {
   "cell_type": "code",
   "execution_count": 2,
   "metadata": {
    "collapsed": true
   },
   "outputs": [],
   "source": [
    "import numpy as np\n",
    "A = np.array([[ 1,  2,   3],\n",
    "              [22, 32,  42],\n",
    "              [55, 66, 100]])\n",
    "b = np.array([1, 2, 3])"
   ]
  },
  {
   "cell_type": "markdown",
   "metadata": {},
   "source": [
    "* Solve $\\mathbf{A}\\vec{x}=\\vec{b}$:\n",
    "`x = np.linalg.solve(A, b)`\n",
    "* Check accuracy of the solution by calculating $\\mathbf{A}\\vec{x}-\\vec{b}$:\n",
    "`np.dot(A, x) - b`\n",
    "* Less efficient direct solution, $\\vec{x}=\\mathbf{A}^{-1}\\vec{b}$:"
   ]
  },
  {
   "cell_type": "code",
   "execution_count": null,
   "metadata": {
    "collapsed": true
   },
   "outputs": [],
   "source": [
    "A_inverse = np.linalg.inv(A)\n",
    "np.dot(A_inverse, A)\n",
    "x = np.dot(A_inverse, b)"
   ]
  },
  {
   "cell_type": "markdown",
   "metadata": {},
   "source": []
  },
  {
   "cell_type": "markdown",
   "metadata": {},
   "source": [
    "#### Examples: Solving Eigensystems\n",
    "Solve for the principle axes of a cube,\n",
    "where the moment of inertia tensor $\\mathbf{I}$ is diagonal.\n",
    "* Solve $\\mathbf{I}\\vec{\\omega}= \\lambda\\vec{\\omega}$ for eigenvectors $\\vec{\\omega}$ and eigenvalues $\\lambda$.\n",
    "* Setup:\n",
    "```\n",
    "import numpy as np\n",
    "I = np.array([[ 2./3,-1./4,-1./4],\n",
    "              [-1./4, 2./3,-1./4],\n",
    "              [-1./4,-1./4, 2./3]])\n",
    "```\n",
    "* Solve eigensystem:\n",
    "`evalues, evectors = np.linalg.eig(I)`\n",
    "* Evaluate difference between RHS and LHS:\n",
    "```\n",
    "LHS = np.dot(I, evectors[:, 0])\n",
    "RHS = evalues[0] * evectors[:, 0]\n",
    "LHS - RHS\n",
    "```"
   ]
  },
  {
   "cell_type": "markdown",
   "metadata": {},
   "source": [
    "#### Multidimensional Nonlinear Root Finding\n",
    "The general problem of finding roots of multiple nonlinear simultaneous equations $f(x, y)$ and $g(x, y)$ is difficult:\n",
    "(figures/multidimensional_root_finding.png)"
   ]
  },
  {
   "cell_type": "markdown",
   "metadata": {},
   "source": [
    "#### Multidimensional Newton-Raphson\n",
    "Consider $N$ nonlinear functions of $N$ variables, $F_i(x_1, x_2, \\ldots , x_N)$. Find the $\\vec{x}$ which gives $F_i(\\vec{x}) = 0$\n",
    " for all $i$.\n",
    "* Taylor expansion:\n",
    "\\begin{equation*}\n",
    "\\vec{F}(\\vec{x}+ \\delta\\vec{x}) = \\vec{F}(\\vec{x}) + \\mathbf{J}\\cdot \\delta\\vec{x} + \\mathcal{O}(\\delta\\vec{x}^2)\n",
    "\\end{equation*}\n",
    "where $\\mathbf{J}$ is the Jacobian matrix with $J_{ij} = \\frac{\\partial F_i}{\\partial x_j}$.\n",
    "* Set $\\vec{F}(\\vec{x}+ \\delta\\vec{x})=0$ to get an approximate solution:\n",
    "\\begin{equation*}\n",
    "\\mathbf{J}\\cdot \\delta\\vec{x} = -\\vec{F}(\\vec{x})\n",
    "\\end{equation*}\n",
    "* Solve for $\\delta\\vec{x}$ to get the Newton-Raphson step:\n",
    "\\begin{equation*}\n",
    "\\vec{x}_{new} = \\vec{x}_{old} + \\delta\\vec{x}\n",
    "\\end{equation*}\n",
    "* Need to use matrix mathods (e.g. LU decomposition) to get $\\delta\\vec{x}$."
   ]
  },
  {
   "cell_type": "markdown",
   "metadata": {},
   "source": [
    "#### Function Minimization\n",
    "What if the problem is to minimize a function instead of finding a zero?\n",
    "* There are routines similar to the bisection and Newton-Raphson methods for minimization.\n",
    "* Multidimensional minimization (optimization) is better behaved than multidimensional root finding.\n",
    "%* See `scipy.optimize` help for a wide range of routines for minimizing functions over one or many variables, with or without constraints.\n",
    "* Many Scipy optimization routines:\n",
    "  * Online documentation:\n",
    "  http://docs.scipy.org/doc/scipy/reference/optimize.html\\end{scriptsize}\n",
    "  * Python help:\n",
    "  `help(scipy.optimize)`\n",
    "  * Many trade-offs between speed, memory use, robustness, \\ldots\n",
    "  * Ideal technique is problem-dependent."
   ]
  },
  {
   "cell_type": "markdown",
   "metadata": {},
   "source": [
    "### Curve Fitting\n",
    "\n",
    "#### Curve Fitting\n",
    "Find the parameters $\\vec{a}=(a_1, a_2, \\ldots, a_M)$ that make the function $f(x, \\vec{a})$ fit the data $(x_i, y_i)$ with standard deviations (errors) $\\sigma_i$ as well as possible.\n",
    "* A common approach is to adjust $\\vec{a}$ to minimize the sum of the squares of the weighted errors, called $\\chi^2$:\n",
    "\\begin{equation*}\n",
    "\\chi^2 = \\sum_{i=0}^{N} \\left[\\frac{y_i - f(x_i, \\vec{a})}{\\sigma_i}\\right]^2\n",
    "\\end{equation*}\n",
    "* For normally distributed data,\n",
    " minimum $\\chi^2 \\Rightarrow$ maximum likelihood.\n",
    "* $1/\\sigma_i^2$ = weighting $\\Rightarrow$ large errors contribute least.\n",
    "* Smaller $\\chi^2 \\Rightarrow$ better fit.\n",
    "* $\\chi^2 \\approx N - M =$ \\# degrees freedom, good.\n",
    "* Good fit: misses $\\sim 1/3$ of points.\n",
    "* $\\chi^2 = 0 \\Rightarrow$ theory passes through all data points."
   ]
  },
  {
   "cell_type": "markdown",
   "metadata": {},
   "source": [
    "#### Example: Linear Regression\n",
    "Fitting data to a line (called Linear Regression) is particularly easy. e.g. fit a line,\n",
    "$y = mx + c$, through some noisy data-points:\n",
    "* Setup and make some data:"
   ]
  },
  {
   "cell_type": "code",
   "execution_count": null,
   "metadata": {
    "collapsed": true
   },
   "outputs": [],
   "source": [
    "import numpy as np\n",
    "x = np.array([0, 1, 2, 3])\n",
    "y = np.array([-1, 0.2, 0.9, 2.1])"
   ]
  },
  {
   "cell_type": "markdown",
   "metadata": {},
   "source": [
    "* By examining the coefficients, we see that the line should have a slope of roughly $1$ and cut the y-axis at, more or less, $-1$.\n",
    "* We can rewrite the line equation as $\\vec{y} = \\mathbf{A}\\vec{p}$,\n",
    " where `A = [[x 1]]` and `p = [[m], [c]]`.\n",
    "Now use `lstsq` to solve for `p`:"
   ]
  },
  {
   "cell_type": "code",
   "execution_count": 1,
   "metadata": {
    "collapsed": false
   },
   "outputs": [
    {
     "ename": "NameError",
     "evalue": "name 'x' is not defined",
     "output_type": "error",
     "traceback": [
      "\u001b[0;31m---------------------------------------------------------------------------\u001b[0m",
      "\u001b[0;31mNameError\u001b[0m                                 Traceback (most recent call last)",
      "\u001b[0;32m<ipython-input-1-3299dc48065a>\u001b[0m in \u001b[0;36m<module>\u001b[0;34m()\u001b[0m\n\u001b[0;32m----> 1\u001b[0;31m \u001b[0mA\u001b[0m \u001b[0;34m=\u001b[0m \u001b[0mnp\u001b[0m\u001b[0;34m.\u001b[0m\u001b[0mcolumn_stack\u001b[0m\u001b[0;34m(\u001b[0m\u001b[0;34m[\u001b[0m\u001b[0mx\u001b[0m\u001b[0;34m,\u001b[0m \u001b[0mnp\u001b[0m\u001b[0;34m.\u001b[0m\u001b[0mones\u001b[0m\u001b[0;34m(\u001b[0m\u001b[0mlen\u001b[0m\u001b[0;34m(\u001b[0m\u001b[0mx\u001b[0m\u001b[0;34m)\u001b[0m\u001b[0;34m)\u001b[0m\u001b[0;34m]\u001b[0m\u001b[0;34m)\u001b[0m\u001b[0;34m\u001b[0m\u001b[0m\n\u001b[0m\u001b[1;32m      2\u001b[0m \u001b[0mm\u001b[0m\u001b[0;34m,\u001b[0m \u001b[0mc\u001b[0m \u001b[0;34m=\u001b[0m \u001b[0mnp\u001b[0m\u001b[0;34m.\u001b[0m\u001b[0mlinalg\u001b[0m\u001b[0;34m.\u001b[0m\u001b[0mlstsq\u001b[0m\u001b[0;34m(\u001b[0m\u001b[0mA\u001b[0m\u001b[0;34m,\u001b[0m \u001b[0my\u001b[0m\u001b[0;34m)\u001b[0m\u001b[0;34m[\u001b[0m\u001b[0;36m0\u001b[0m\u001b[0;34m]\u001b[0m\u001b[0;34m\u001b[0m\u001b[0m\n",
      "\u001b[0;31mNameError\u001b[0m: name 'x' is not defined"
     ]
    }
   ],
   "source": [
    "A = np.column_stack([x, np.ones(len(x))])\n",
    "m, c = np.linalg.lstsq(A, y)[0]"
   ]
  },
  {
   "cell_type": "markdown",
   "metadata": {},
   "source": [
    "#### Example: Linear Regression, Plotting\n",
    "* Setup the plots for the data and line:\n",
    "`plot.new_curve('data', line_style='',`\n",
    "`               marker_style='o',`\n",
    "`               marker_color='blue')`\n",
    "`plot.new_curve('fit',`\n",
    "`               line_style='-',`\n",
    "`               line_color='red')`\n",
    "* Plot the data along with the fitted line:\n",
    "`plot.set_data('data', np.column_stack((x, y)))`\n",
    "`plot.set_data('fit', np.column_stack((x, m*x + c)))`"
   ]
  },
  {
   "cell_type": "markdown",
   "metadata": {},
   "source": [
    "#### Example: Nonlinear Curve Fitting\n",
    "* Setup:"
   ]
  },
  {
   "cell_type": "code",
   "execution_count": null,
   "metadata": {
    "collapsed": true
   },
   "outputs": [],
   "source": [
    "import numpy as np\n",
    "import scipy.optimize"
   ]
  },
  {
   "cell_type": "markdown",
   "metadata": {},
   "source": [
    "* The function to fit:"
   ]
  },
  {
   "cell_type": "markdown",
   "metadata": {},
   "source": [
    "def f(x, a, b, c):`\n",
    "    return a*x**2 + b*x + c"
   ]
  },
  {
   "cell_type": "markdown",
   "metadata": {},
   "source": [
    "\n",
    "* Generate some simulated data:"
   ]
  },
  {
   "cell_type": "markdown",
   "metadata": {},
   "source": [
    "x = np.linspace(0.0, 4.0, 50)\n",
    "y = f(x, 2.5, 1.3, 0.5)\n",
    "yn = y + 0.2*np.random.normal(size=len(x))"
   ]
  },
  {
   "cell_type": "markdown",
   "metadata": {},
   "source": [
    "* Fit the data:\n",
    "`scipy.optimize.curve_fit(f, x, yn)`"
   ]
  },
  {
   "cell_type": "markdown",
   "metadata": {},
   "source": [
    "#### Uncertainties in Fit Parameters\n",
    "How do we estimate the uncertainties in the fit parameters $\\vec{a}=(a_1, a_2, \\ldots, a_M)$?\n",
    "* `scipy.optimize.curve_fit` returns:\n",
    "  * `popt`: array\n",
    "Optimal values for the parameters so that the sum of the squared error is minimized.\n",
    "  * `pcov`: 2d array\n",
    "The estimated covariance of `popt`. The diagonals provide the variance of the parameter estimate.\n",
    "* The standard deviation of $a_i$ is $\\sigma_i = \\sqrt{C_{ii}}$.\n",
    "  * The 68\\% confidence interval for $a_i$ is $\\pm \\sigma_i$.\n",
    "  * The 95\\% confidence interval for $a_i$ is $\\pm 2\\sigma_i$.\n",
    "  * etc."
   ]
  },
  {
   "cell_type": "markdown",
   "metadata": {},
   "source": [
    "#### Example: Nonlinear Curve Fitting, Continued\n",
    "The results of the fit:"
   ]
  },
  {
   "cell_type": "code",
   "execution_count": null,
   "metadata": {
    "collapsed": true
   },
   "outputs": [],
   "source": [
    "import math\n",
    "popt, pcov = scipy.optimize.curve_fit(f, x, yn)\n",
    "for i in range(len(popt)):\n",
    "    params = (i, popt[i], pcov[i,i])\n",
    "    print '%d: %g +/- %g' % params\n"
   ]
  }
 ],
 "metadata": {
  "kernelspec": {
   "display_name": "Python 3",
   "language": "python",
   "name": "python3"
  },
  "language_info": {
   "codemirror_mode": {
    "name": "ipython",
    "version": 3
   },
   "file_extension": ".py",
   "mimetype": "text/x-python",
   "name": "python",
   "nbconvert_exporter": "python",
   "pygments_lexer": "ipython3",
   "version": "3.4.3"
  }
 },
 "nbformat": 4,
 "nbformat_minor": 0
}
