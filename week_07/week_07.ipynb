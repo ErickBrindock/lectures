{
 "cells": [
  {
   "cell_type": "markdown",
   "metadata": {},
   "source": [
    "# Computational methods in Physics\n",
    "## Week 7\n",
    "#### Prof. Michael Wood-Vasey\n",
    "##### [based on materials from Prof. Brian D'Urso]\n",
    "##### University of Pittsburgh, Department of Physics and Astronomy"
   ]
  },
  {
   "cell_type": "markdown",
   "metadata": {},
   "source": [
    "## Ordinary Differential Equations\n",
    "\n",
    "### ODEs\n",
    "\n",
    "#### The Problem\n",
    "We will be looking at solving equations like:\n",
    "\\begin{equation*}\n",
    "\\frac{dy}{dt} = f(t, y)\n",
    "\\end{equation*}\n",
    "where:\n",
    "\n",
    "* The function $f(t, y)$ is given.\n",
    "* An initial condition is given, e.g. $y(0) = 1.0$.\n",
    "* The problem is to find $y(t)$ for a requested range of $t$.\n",
    "* We will refer to finding the solution $y(t)$ as\n",
    "solving or integrating a\n",
    "first order\n",
    "ordinary differential equation (ODE)\n",
    "initial value problem."
   ]
  },
  {
   "cell_type": "markdown",
   "metadata": {},
   "source": [
    "#### Order of an ODE\n",
    "The *order* of an ODE is the highest degree of the derivative on the left hand side (LHS) of the equation.\n",
    "\n",
    "* The general form of a first order ODE is:\n",
    "\\begin{equation*}\n",
    "\\frac{dy}{dt} = f(t, y)\n",
    "\\end{equation*}\n",
    "* The general form of a second order ODE is:\n",
    "\\begin{equation*}\n",
    "\\frac{d^2y}{dt^2}+ \\lambda \\frac{dy}{dt} = f\\left(t, \\frac{dy}{dt}, y\\right)\n",
    "\\end{equation*}\n",
    "* In each case:\n",
    "\n",
    "* $t$ is the *independent* variable.\n",
    "* $y$ is the *dependent* variable."
   ]
  },
  {
   "cell_type": "markdown",
   "metadata": {},
   "source": [
    "#### Ordinary and Partial Differential Equations\n",
    "\n",
    "* Ordinary differential equations (ODEs)\n",
    "have one independent variable, e.g. $t$:\n",
    "\n",
    "\\begin{equation*}\n",
    "\\frac{d^2y}{dt^2} = - k y\n",
    "\\end{equation*}\n",
    "\n",
    "* Partial differential equations (PDEs)\n",
    "have multiple independent variables, e.g. $t$ and $x$:\n",
    "\n",
    "\\begin{equation*}\n",
    "\\frac{\\partial^2y}{\\partial t^2} - c^2 \\frac{\\partial^2y}{\\partial x^2} = 0\n",
    "\\end{equation*}\n",
    "\n",
    "* For now, we will work only with ODEs."
   ]
  },
  {
   "cell_type": "markdown",
   "metadata": {},
   "source": [
    "#### Linear and Nonlinear ODEs\n",
    "One advantage of numerical methods is that both\n",
    "*linear* and *nonlinear* ODEs can generally be solved.\n",
    "\n",
    "* An ODE is *linear* if $y$ and $\\frac{d^n y}{dt^n}$\n",
    "appear only to the first power.\n",
    "\n",
    "* For linear ODEs, any linear superposition\n",
    "of solutions is also a solution.\n",
    "* If $A(t)$ and $B(t)$ are solutions, then\n",
    "\\begin{equation*}\n",
    "y(t) = \\alpha A(t) + \\beta B(t)\n",
    "\\end{equation*}\n",
    "is also a solution for any values of $\\alpha$ and $\\beta$.\n",
    "\n",
    "* An ODE is *nonlinear* if $y$ and $\\frac{d^n y}{dt^n}$ appear\n",
    "with powers $>1$ or in other nonlinear functions.\n",
    "\n",
    "* For nonlinear ODEs, linear superpositions\n",
    "of solutions are not generally solutions."
   ]
  },
  {
   "cell_type": "markdown",
   "metadata": {},
   "source": [
    "#### Initial and Boundary Value Problems\n",
    "\n",
    "* An ODE of order $n$ requires $n$ conditions to give a unique solution (one arbitrary constant is added for each integration step).\n",
    "* If $n$ conditions are given at the same point in time, e.g:\n",
    "$y(t_0)=\\alpha$, $y^\\prime (t_0)=\\beta$, for some $t_0$, $\\alpha$, and $\\beta$,\n",
    "they are called *initial conditions* and the problem is an *initial value problem*.\n",
    "* If $n$ conditions are given at different points in time, e.g:\n",
    "$y(t_1)=\\alpha$, $y(t_2)=\\beta$, for some $t_1 \\neq t_2$,\n",
    "they are called *boundary conditions* and the problem is a *boundary value problem*."
   ]
  },
  {
   "cell_type": "markdown",
   "metadata": {},
   "source": [
    "### Solving\n",
    "\n",
    "#### Solving an ODE: General Strategy\n",
    "\n",
    "* Start with your equation, e.g.:\n",
    "\\begin{equation*}\n",
    "\\frac{dy}{dt} = f(t, y)\n",
    "\\end{equation*}\n",
    "* Write it as a system of first order ODEs, if neccesary.\n",
    "(We will discuss this in more detail next week.)\n",
    "* Start at the initial condition, e.g. $y(t_0) = \\alpha$.\n",
    "* Use some method which evaluates $f(t, y)$\n",
    "to find $y(t)$ at some other time $y(t+\\delta t)$.\n",
    "* Repeat to get an array of $(t, y(t))$ pairs."
   ]
  },
  {
   "cell_type": "markdown",
   "metadata": {},
   "source": [
    "#### Explicit Euler Method\n",
    "\n",
    "* The simplest method of solution follows directly from the definition of the derivative:\n",
    "\\begin{equation*}\n",
    "\\frac{dy}{dt} = \\lim_{\\delta t \\rightarrow 0} \\frac{y(t+\\delta t) - y(t)}{\\delta t}\n",
    "\\end{equation*}\n",
    "* So, if we go back to the equation, e.g.:\n",
    "\\begin{equation*}\n",
    "\\frac{dy}{dt} = f(t, y)\n",
    "\\end{equation*}\n",
    "we can try:\n",
    "\\begin{equation*}\n",
    "y(t+\\delta t) = y(t) + \\delta t \\; f(t, y(t))\n",
    "\\end{equation*}\n",
    "* This is the *explicit Euler method*."
   ]
  },
  {
   "cell_type": "code",
   "execution_count": 4,
   "metadata": {
    "collapsed": false
   },
   "outputs": [],
   "source": [
    "# Very Simple\n",
    "# y = t^2\n",
    "# dy/dt = 2 t\n",
    "def f(t, y):\n",
    "    return 2*t\n",
    "\n",
    "def euler_explicit_1d_step(f, t, y, dt):\n",
    "    return y + dt * f(t, y)\n",
    "\n",
    "def euler_explicit_1d(f, t, y0):\n",
    "\n",
    "    dt = t[1]-t[0]\n",
    "\n",
    "    y = np.zeros_like(t)\n",
    "    y[0] = y0   # Initial value\n",
    "\n",
    "    for i in range(0,len(t)-1):\n",
    "        y[i+1] = euler_explicit_1d_step(f, t[i], y[i], dt)\n",
    "\n",
    "    return y\n",
    "\n",
    "N = 1001\n",
    "t = np.linspace(0, 100, N)\n",
    "y0 = 5\n",
    "\n",
    "y = euler_explicit_1d(f, t, y0)"
   ]
  },
  {
   "cell_type": "markdown",
   "metadata": {},
   "source": [
    "#### Explicit Euler Method: Mass and Spring\n",
    "\n",
    "* Consider the mass and spring system with $F=ma=-kx$:\n",
    "\\begin{equation*}\n",
    "\\frac{d^2x}{dt^2} = -\\frac{k}{m}x\n",
    "\\end{equation*}\n",
    "* This can be rewritten as two first order ODEs:\n",
    "$\\frac{dx}{dt} = v(t)$ and $\\frac{dv}{dt} = -\\frac{k}{m}x$.\n",
    "* For simplicity, take $\\frac{k}{m} = 1$.\n",
    "* If we have initial conditions $x_0$ and $v_0$ at $t_0=0$,\n",
    "we can write:\n",
    "\\begin{align*}\n",
    "x_{i+1} &= x_i + v_i \\; \\delta t \\\\\n",
    "v_{i+1} &= v_i - x_i \\; \\delta t \\\\\n",
    "\\end{align*}"
   ]
  },
  {
   "cell_type": "code",
   "execution_count": 6,
   "metadata": {
    "collapsed": false
   },
   "outputs": [
    {
     "ename": "SyntaxError",
     "evalue": "invalid syntax (<ipython-input-6-3b8f4a4f3f9f>, line 5)",
     "output_type": "error",
     "traceback": [
      "\u001b[0;36m  File \u001b[0;32m\"<ipython-input-6-3b8f4a4f3f9f>\"\u001b[0;36m, line \u001b[0;32m5\u001b[0m\n\u001b[0;31m    def euler_explicit_step_2d(f, t, x, v dt):\u001b[0m\n\u001b[0m                                           ^\u001b[0m\n\u001b[0;31mSyntaxError\u001b[0m\u001b[0;31m:\u001b[0m invalid syntax\n"
     ]
    }
   ],
   "source": [
    "# Let's go through how to set up the 2D case, for which we need two questions\n",
    "def f(t, x, v):\n",
    "    return np.array([v, -x])\n",
    "\n",
    "def euler_explicit_step_2d(f, t, x, v dt):\n",
    "    return np.array([x, v]) + dt * f(t, x, v)\n",
    "\n",
    "def euler_explicit_2d(f, t, x0, v0):\n",
    "    dt = t[1]-t[0]\n",
    "\n",
    "    x = np.zeros_like(t)\n",
    "    v = np.zeros_like(t)\n",
    "    x[0] = x0   # Initial value\n",
    "    v[0] = v0   # Initial value\n",
    "    \n",
    "    for i in range(0,len(t)-1):\n",
    "        x[i+1], v[i+1] = euler_explicit_1d_step(f, t[i], y[i], dt)\n",
    "\n",
    "    return y\n",
    "\n",
    "\n",
    "    "
   ]
  },
  {
   "cell_type": "markdown",
   "metadata": {},
   "source": [
    "#### Explicit Euler Method Implementation\n",
    "\n",
    "* See lecture demo `ODE_solver.py`."
   ]
  },
  {
   "cell_type": "markdown",
   "metadata": {},
   "source": [
    "#### Implicit Euler Method: Mass and Spring\n",
    "\n",
    "* There is an asymmetry to our timestep.\n",
    "We could have chosen:\n",
    "\\begin{align*}\n",
    "x_{i+1} &= x_i + v_{i+1} \\; \\delta t \\\\\n",
    "v_{i+1} &= v_i - x_{i+1} \\; \\delta t \\\\\n",
    "\\end{align*}\n",
    "* This is the *implicit Euler method*.\n",
    "* We need to solve a matrix equation at each time step\n",
    "to find $x_{i+1}$ and $v_{i+1}$:\n",
    "\\begin{equation*}\n",
    "\\begin{pmatrix}\n",
    "1 & -\\delta t \\\\\n",
    "\\delta t & 1 \\\\\n",
    "\\end{pmatrix}\n",
    "\\cdot\n",
    "\\begin{pmatrix}\n",
    "x_{i+1} \\\\\n",
    "v_{i+1} \\\\\n",
    "\\end{pmatrix}\n",
    "=\n",
    "\\begin{pmatrix}\n",
    "x_{i} \\\\\n",
    "v_{i}\n",
    "\\end{pmatrix}\n",
    "\\end{equation*}\n",
    "* This is harder for nonlinear problems, so implicit methods are not as common as explicit methods."
   ]
  },
  {
   "cell_type": "markdown",
   "metadata": {},
   "source": [
    "#### Conservation of Energy?\n",
    "\n",
    "* Many methods do not conserve energy!\n",
    "* Harmonic oscillator $(x, v)$ trajectories should trace out circles in phase space, since:\n",
    "\\begin{equation*}\n",
    "E = \\tfrac{1}{2}(x^2 + v^2)\n",
    "\\end{equation*}\n",
    "* *Symplectic* methods \"almost\" exactly conserve energy.\n",
    "\n",
    "* For Hamiltonian systems.\n",
    "* Conserve \"volume\" in phase space.\n",
    "* \"Conservation of pain\": Other errors are introduced.\n",
    "(a.k.a. the blanket principle: The blanket is always too short to cover both your feet and your head.)\n",
    "* E.g. phase in harmonic oscillator is less accurate."
   ]
  },
  {
   "cell_type": "markdown",
   "metadata": {},
   "source": [
    "#### Symplectic Euler Method\n",
    "\n",
    "* If the (classical) Hamiltonian is of the form:\n",
    "\\begin{equation*}\n",
    "H = T(t, p) + V(t, q) \\quad\\textrm{e.g.}\\quad H = \\frac{p^2}{2} + V(q)\n",
    "\\end{equation*}\n",
    "* Then the differential equations take the form:\n",
    "\\begin{align*}\n",
    "\\frac{dq}{dt} = \\frac{\\partial T}{\\partial p} \\quad &\\Rightarrow \\quad \\frac{dx}{dt} = f(t, v) \\\\\n",
    "\\frac{dp}{dt} = -\\frac{\\partial V}{\\partial q} \\quad &\\Rightarrow \\quad \\frac{dv}{dt} = g(t, x) \\\\\n",
    "\\end{align*}\n",
    "* If we have initial conditions $x_0$ and $v_0$ at $t_0$:\n",
    "\\begin{align*}\n",
    "x_{i+1} &= x_i + f(t_i, v_i) \\; \\delta t  \\\\\n",
    "v_{i+1} &= v_i + g(t_i, x_{i+1}) \\; \\delta t  \\\\\n",
    "\\end{align*}\n",
    "* For the mass and spring, these are:\n",
    "\\begin{align*}\n",
    "x_{i+1} &= x_i + v_i \\; \\delta t  \\\\\n",
    "v_{i+1} &= v_i - x_{i+1} \\; \\delta t  \\\\\n",
    "\\end{align*}"
   ]
  },
  {
   "cell_type": "markdown",
   "metadata": {},
   "source": [
    "#### Higher Order Methods\n",
    "\n",
    "* Euler method evaluates $f$ at one endpoint of step.\n",
    "* Euler method is first order: local error scales like $\\delta t^2$.\n",
    "\\begin{align*}\n",
    "y(t+\\delta t) &= y(t) + \\delta t \\frac{dy}{dt} + \\mathcal{O}(\\delta t ^2) \\\\\n",
    "&= y(t) + \\delta t \\; f(y, t) + \\mathcal{O}(\\delta t ^2)\n",
    "\\end{align*}\n",
    "* Global error is $\\mathcal{O}(\\delta t)$: smaller $\\delta t\\rightarrow$ more steps.\n",
    "* Can we improve the scaling of the error?\n",
    "* How about evaluating $f$ at the midpoint of the step?\n",
    "\n",
    "![](figures/rk2.png)"
   ]
  },
  {
   "cell_type": "markdown",
   "metadata": {},
   "source": [
    "#### Second Order Runge-Kutta\n",
    "If we aim to evaluate $f$ at the midpoint, we get a version of the *second order Runge-Kutta method*:\n",
    "\\begin{align*}\n",
    "y(t+\\delta t) &= y(t) + \\delta t \\; f\\left[y(t)+\\tfrac{\\delta t}{2}f(y)\\right] \\\\\n",
    "&= y(t) + \\delta t \\left(f[y(t)] + \\tfrac{\\delta t}{2} f[y(t)]\\frac{df[y(t)]}{dx}+\\mathcal{O}(\\delta t ^2)\\right) \\\\\n",
    "&= y(t) + \\delta t \\; f[y(t)] + \\frac{\\delta t^2}{2}\\frac{df[y(t)]}{dt}+\\mathcal{O}(\\delta t ^3) \\\\\n",
    "\\end{align*}\n",
    "Evaluate as:\n",
    "\\begin{align*}\n",
    "y_{n+1} &= y_n + k_2 \\\\\n",
    "k_2 &= \\delta t \\; f\\left(t_n + \\tfrac{\\delta t}{2}, y_n + \\tfrac{k_1}{2}\\right) \\\\\n",
    "k_1 &= \\delta t \\; f(t_n, y_n) \\\\\n",
    "\\end{align*}"
   ]
  },
  {
   "cell_type": "markdown",
   "metadata": {},
   "source": [
    "#### Fourth Order Runge-Kutta\n",
    "\n",
    "* Schemes with $q$ intermediate steps are known as $(q+1)$-*stage Runge-Kutta*.\n",
    "* Local error is $\\mathcal{O}(\\delta t^{q+1})$ only for $q \\leq 4$.\n",
    "* Sweet spot is fourth order Runge-Kutta ($q=4$)\n",
    "with local error $\\mathcal{O}(\\delta t^5)$. Evaluate as:\n",
    "\n",
    "\\begin{align*}\n",
    "y_{n+1} &= y_n + \\tfrac{1}{6}(k_1+2k_2+2k_3+k_4) \\\\\n",
    "k_1 &= \\delta t \\; f(t_n , y_n) \\\\\n",
    "k_2 &= \\delta t \\; f\\left(t_n + \\tfrac{\\delta t}{2}, y_n + \\tfrac{k_1}{2}\\right) \\\\\n",
    "k_3 &= \\delta t \\; f\\left(t_n + \\tfrac{\\delta t}{2}, y_n + \\tfrac{k_2}{2}\\right) \\\\\n",
    "k_4 &= \\delta t \\; f(t_n+\\delta t, y_n+k_3) \\\\\n",
    "\\end{align*}\n",
    "\n",
    "* A good general-purpose algorithm."
   ]
  },
  {
   "cell_type": "markdown",
   "metadata": {},
   "source": [
    "#### Other Methods\n",
    "\n",
    "* Adaptive step size Runge-Kutta\n",
    "a.k.a. *Runge-Kutta-Fehlberg*:\n",
    "\n",
    "* Changes step size based on an estimate of the error.\n",
    "* Extra computational cost may or may not be worthwhile.\n",
    "\n",
    "* Many other methods exist.\n",
    "* Particular methods may be most appropriate for a given problem depending on behavior of equations and desired goal."
   ]
  },
  {
   "cell_type": "code",
   "execution_count": null,
   "metadata": {
    "collapsed": true
   },
   "outputs": [],
   "source": []
  }
 ],
 "metadata": {
  "kernelspec": {
   "display_name": "Python 3",
   "language": "python",
   "name": "python3"
  },
  "language_info": {
   "codemirror_mode": {
    "name": "ipython",
    "version": 3
   },
   "file_extension": ".py",
   "mimetype": "text/x-python",
   "name": "python",
   "nbconvert_exporter": "python",
   "pygments_lexer": "ipython3",
   "version": "3.4.3"
  }
 },
 "nbformat": 4,
 "nbformat_minor": 0
}
