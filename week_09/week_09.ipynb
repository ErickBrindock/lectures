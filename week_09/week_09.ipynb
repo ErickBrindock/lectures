{
 "cells": [
  {
   "cell_type": "markdown",
   "metadata": {},
   "source": [
    "# Computational methods in Physics\n",
    "## Week 9\n",
    "#### Prof. Michael Wood-Vasey\n",
    "##### [based on materials from Prof. Brian D'Urso]\n",
    "##### University of Pittsburgh, Department of Physics and Astronomy\n",
    "\n",
    "* Analytical Fourier Series and Transforms\n",
    "* Discrete Fourier Transforms"
   ]
  },
  {
   "cell_type": "markdown",
   "metadata": {},
   "source": [
    "#### Fourier Series\n",
    "For a periodic function $y(t)$ with period $T$:\n",
    "\\begin{equation*}\n",
    "y(t) = \\frac{a_{0}}{2} + \\sum_{n=1}^{\\infty} \\left(a_{n} \\cos\n",
    "n\\omega t + b_{n} \\sin n\\omega t\n",
    "\\right)\n",
    "\\end{equation*}\n",
    "The Fourier coefficients can be determined with:\n",
    "\\begin{equation*}\n",
    "{a_n\\choose b_n}  =\\frac{2}{T} \n",
    "  \\int _{0}^{T} {\\cos n\\omega t\\choose \\sin n\\omega t} \\ y(t) \\ dt\n",
    "\\end{equation*}\n",
    "Notes:\n",
    "* $a_{0} = 2 \\left\\langle y(t)\\right\\rangle$, $b_{0} = 0$.\n",
    "* If $y(t)$ odd: $y(-t) = - y(t)$  $\\Rightarrow$  $a_{n} \\equiv 0$.\n",
    "* If $y(t)$ even: $y(-t) = y(t)$ $\\Rightarrow$ $b_{n} \\equiv 0$."
   ]
  },
  {
   "cell_type": "markdown",
   "metadata": {},
   "source": [
    "#### Fourier Transforms\n",
    "For a function $y(t)$ defined at all times:\n",
    "\\begin{equation*}\n",
    "y(t)=\\int_{-\\infty}^{+\\infty} Y(\\omega)\\, \\frac{e^{+i\\omega t}} {\\sqrt{2\\pi}} \\  d\\omega\n",
    "\\end{equation*}\n",
    "Fourier transform $Y(\\omega)$ can be determined with:\n",
    "\\begin{equation*}\n",
    "Y(\\omega)=\\int_{-\\infty}^{+\\infty} y(t)\\, \\frac{e^{-i\\omega t}} {\\sqrt{2\\pi}} \\ dt\n",
    "\\end{equation*}\n",
    "Notes:\n",
    "\n",
    "* If $y(t)$ odd and real: $y(-t) = - y(t)$  $\\Rightarrow$ $Y(\\omega)$ is imaginary.\n",
    "* If $y(t)$ even and real: $y(-t) = y(t)$ $\\Rightarrow$ $Y(\\omega)$ is real.\n",
    "* If $y(t)$ is purely real $\\Rightarrow Y(-\\omega)=\\overline{Y(\\omega)}$.\n",
    "* Power Spectrum: $\\propto \\left| Y(\\omega)\\right|^{2}$, maybe $\\log_{10}\\left|Y\\right|^{2}$."
   ]
  },
  {
   "cell_type": "markdown",
   "metadata": {},
   "source": [
    "#### Discrete Fourier Transforms (DFT)\n",
    "For numerical evaluation, we have to use a finite range for $t$\n",
    "and $N$ discrete samples of $y(t)$:\n",
    "\n",
    "* $y_{k} = y(t_{k})$, $k = 0, 1,\\ldots, N-1$.\n",
    "* Uniform time steps $\\Delta t \\rightarrow t_{k} = k \\Delta t$.\n",
    "* Assume periodicity $y(t+T) = y(t)$, $T=N\\Delta t$.\n",
    "\n",
    "The DFT will give us $Y(\\omega)$ at $N$ discrete values $Y_k=Y(\\omega_k)$:\n",
    "\n",
    "* $\\omega_k = k \\Delta \\omega, \\qquad k = 0, 1, \\ldots , N-1$.\n",
    "* $\\Delta \\omega = \\frac{2\\pi}{T}=\\frac{2\\pi}{N\\Delta t}$.\n",
    "* $Y(\\omega_k)$ is also periodic: $Y(\\omega_{n+N})=Y(\\omega_{n})$,\n",
    "\tso we can also shift the range of $k$."
   ]
  },
  {
   "cell_type": "markdown",
   "metadata": {},
   "source": [
    "#### Discrete Fourier Transforms (DFT)\n",
    "The formula for the forward DFT is:\n",
    "\\begin{equation*}\n",
    "Y(\\omega_{n}) = \\sum_{k=0}^{N-1}\\Delta t\\, y(t_{k})\\frac{e^{-i\\omega_{n}t_{k}}}{\\sqrt{2\\pi}}\n",
    "\\end{equation*}\n",
    "\n",
    "* $t_{k} = k \\Delta t, \\qquad k = 0, 1,\\ldots, N-1$.\n",
    "\n",
    "The inverse transform is:\n",
    "\\begin{equation*}\n",
    "y(t) = \\sum_{n=0}^{N-1}\\frac{2\\pi}{N\\Delta t}\\, \\frac{e^{i \\omega_{n}t}}{\\sqrt{2\\pi}} Y(\\omega_{n})\n",
    "\\end{equation*}\n",
    "\n",
    "* $\\omega_k = k \\Delta \\omega, \\qquad k = 0, 1, \\ldots , N-1$.\n",
    "* $\\Delta \\omega = \\frac{2\\pi}{T}=\\frac{2\\pi}{N\\Delta t}$"
   ]
  },
  {
   "cell_type": "markdown",
   "metadata": {},
   "source": [
    "#### Fast Fourier Transform (FFT)\n",
    "The FFT is an efficient algorithm for computing the DFT\n",
    "when $N$ is an integer power of 2.\n",
    "FFTs in Numpy:\n",
    "\n",
    "* `numpy.fft` module:\n",
    "\n",
    "* Online documentation:\n",
    "http://docs.scipy.org/doc/numpy/reference/routines.fft.html\n",
    "* Python help: `help(numpy.fft)`\n",
    "\n",
    "* `numpy.fft` functions:\n",
    "\n",
    "* `numpy.fft.fft` -- Discrete Fourier transform.\n",
    "* `numpy.fft.ifft` -- Inverse discrete Fourier transform.\n",
    "* `numpy.fft.rfft` -- Real discrete Fourier transform.\n",
    "* `numpy.fft.irfft` -- Inverse real discrete Fourier transform."
   ]
  },
  {
   "cell_type": "markdown",
   "metadata": {},
   "source": [
    "#### Fast Fourier Transform (FFT)\n",
    "In `numpy.fft`, the DFT is defined as:\n",
    "\\begin{equation*}\n",
    "A_{k} = \\sum_{n=0}^{N-1}a_n e^{-2\\pi i n k/N} \\qquad k=0, 1, \\ldots, N-1 \\qquad \\Delta f = \\tfrac{1}{N\\Delta t}\n",
    "\\end{equation*}\n",
    "\n",
    "* The values in the result follow \"standard\" order: If `A = numpy.fft.fft(a, N)` $\\rightarrow$ `A[0]` contains the zero-frequency term, which is purely real for real inputs.\n",
    "* `A[1:N/2]` contains the positive-frequency terms, and `A[N/2+1:]` contains the negative-frequency terms, in order of decreasingly negative frequency.\n",
    "* For even $N$, `A[N/2]` represents both positive and negative Nyquist frequency, and is also real for real input.\n",
    "* For odd $N$, `A[(N-1)/2]` contains the largest positive frequency, while `A[(N+1)/2]` contains the largest negative frequency."
   ]
  },
  {
   "cell_type": "markdown",
   "metadata": {},
   "source": [
    "#### Fast Fourier Transform (FFT)\n",
    "\n",
    "* `numpy.fft.fftfreq(N)` returns an array giving the frequencies of corresponding elements in the output.\n",
    "* The routine `np.fft.fftshift(A)` shifts transforms and their frequencies to put the zero-frequency components in the middle, and `numpy.fft.ifftshift(A)` undoes that shift.\n",
    "\n",
    "The inverse DFT is defined as:\n",
    "\\begin{equation*}\n",
    "a_n = \\frac{1}{N}\\sum_{k=0}^{N-1}A_k e^{2\\pi i n k/N} \\qquad n=0, 1, \\ldots, N-1\n",
    "\\end{equation*}"
   ]
  },
  {
   "cell_type": "markdown",
   "metadata": {},
   "source": [
    "#### Additional Notes on Real FFTs\n",
    "\n",
    "* If all the $a_k$ are real, the negative frequency terms are just the complex conjugates of the corresponding positive-frequency terms.\n",
    "* `numpy.fft.rfft` does not compute the negative frequency terms, and the length of the output is `N/2+1`.\n",
    "* If `A = numpy.fft.rfft(a)`, `A[0]` contains the zero-frequency term, which must be purely real.\n",
    "* If `N` is even, `A[-1]` contains the term for frequencies `N/2` and `-N/2`, and must also be purely real.\n",
    "* If `N` is odd, `A[-1]` contains the term for frequency `A[(N-1)/2]`, and is complex in the general case."
   ]
  }
 ],
 "metadata": {
  "kernelspec": {
   "display_name": "Python 3",
   "language": "python",
   "name": "python3"
  },
  "language_info": {
   "codemirror_mode": {
    "name": "ipython",
    "version": 3
   },
   "file_extension": ".py",
   "mimetype": "text/x-python",
   "name": "python",
   "nbconvert_exporter": "python",
   "pygments_lexer": "ipython3",
   "version": "3.4.3"
  }
 },
 "nbformat": 4,
 "nbformat_minor": 0
}
