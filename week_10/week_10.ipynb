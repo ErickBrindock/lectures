{
 "cells": [
  {
   "cell_type": "markdown",
   "metadata": {},
   "source": [
    "# Computational methods in Physics\n",
    "## Week 10\n",
    "#### Prof. Michael Wood-Vasey\n",
    "##### [based on materials from Prof. Brian D'Urso]\n",
    "##### University of Pittsburgh, Department of Physics and Astronomy"
   ]
  },
  {
   "cell_type": "markdown",
   "metadata": {},
   "source": [
    "### Why Is Nature So Complicated?\n",
    "\n",
    "* Insect populations, weather patterns\n",
    "* Complex behavior\n",
    "* Stable,  periodic,   chaotic, stable, ...\n",
    "*  **Problem:** can a simple, discrete law produce such complicated behavior?"
   ]
  },
  {
   "cell_type": "markdown",
   "metadata": {},
   "source": [
    "### Logistic Map\n",
    "#### Model Realistic Problem: ~~Bug~~ Insect Cycles\n",
    "\n",
    "##### Insects Reproduce Generation after Generation = $i$\n",
    "\n",
    "*   $N_0\\ \\rightarrow \\  N_1, N_2, \\ldots  N_\\infty$\n",
    "*  $N_i = f(i)?$\n",
    "* We've previously discussed discrete radioactive decay,\n",
    "\\begin{eqnarray}\n",
    "\\frac{\\Delta N}{\\Delta t} =\\ & -\\lambda N\n",
    "\\Rightarrow\\   \\simeq\\ & e^{-\\lambda t}\n",
    "\\end{eqnarray}\n",
    "*  If $\\lambda < 0$ $\\implies$  growth\n",
    "\n",
    "$$\n",
    "\\frac{\\Delta N_i}{\\Delta t} = \\lambda \\; N_i\n",
    "$$\n",
    "\n",
    "![Family of cockroaches](figures/cockroach.jpg)"
   ]
  },
  {
   "cell_type": "markdown",
   "metadata": {},
   "source": [
    "#### Refine Model: Maximum Population $N_*$\n",
    "\n",
    "We do not observe an exponentially increasing population of insects overall.  What limits the growth of the population?  Can we estimate the maximum population, $N_{*}$?\n",
    "\n",
    "##### Incorporate Carrying Capacity into Rate\n",
    "\n",
    "* Assume  breeding rate proportional to number of insects:\n",
    "$$\n",
    "\\frac{\\Delta N_i}{\\Delta t} = \\lambda \\; N_i\n",
    "$$\n",
    " * Want growth rate   $\\downarrow$  as  $N_i \\rightarrow N_{*}$\n",
    " * Assume $\\lambda=\\lambda' (N_*-N_i)$\n",
    "$$\n",
    "\\Rightarrow\\ \\ \n",
    "\\boxed{\n",
    "\\frac{\\Delta N_i}{\\Delta t} =\n",
    "\\lambda'(N_{*}-N_i)N_i \\quad \\quad \\mbox{(Logistic Map)}\n",
    "}\n",
    "$$\n",
    "* Small $N_i/N_*$ $\\implies$ exponential growth\n",
    "*  $N_i \\rightarrow N_*$  $\\implies$ slow growth, stable, decay"
   ]
  },
  {
   "cell_type": "markdown",
   "metadata": {},
   "source": [
    "#### Logistic as Map in Dimensionless Variables\n",
    "\n",
    "We can write this more generally with a change of variables:\n",
    "\n",
    "First break out explicitly into successive steps:\n",
    "\n",
    "$$\n",
    "N_{i+1} = N_i + \\lambda' \\, \\Delta t (N_{*}-N_i)N_i\n",
    "$$\n",
    "\n",
    "Then define\n",
    "\n",
    "$$\n",
    "x_{i} \\simeq \\frac{N_i}{N_{*}} = \\mbox{fraction of maximum}\n",
    "$$\n",
    "\n",
    "and \n",
    "$$\n",
    "\\begin{align}\n",
    "\\mu \\equiv & 1 + \\lambda' \\,\\Delta  t N_{*}, \\quad \\quad\n",
    "x_{i} \\equiv \\frac{\\lambda' \\,  \\Delta  t}{\\mu} N_i\\simeq\n",
    "\\frac{N_i}{N_{*}} \\\\\n",
    "\\end{align}\n",
    "$$\n",
    "\n",
    "$$\n",
    "\\boxed{\n",
    "x_{i+1} = \\mu x_{i}(1- x_{i}) \\quad\\quad\\mbox{(Logistic Map)}\n",
    "}\n",
    "$$\n",
    "\n",
    "Note:\n",
    "*   $0 \\leq x_{i} \\leq 1$\n",
    "* This is a map because: $x_{i+1} = f(x_i)$\n",
    "* Quadratic function,  1-D map\n",
    "* $f(x) = \\mu x(1-x)$"
   ]
  },
  {
   "cell_type": "markdown",
   "metadata": {},
   "source": [
    "### Properties\n",
    "#### Properties of Nonlinear Maps (Theory)\n",
    "\n",
    "Empirical Study: Plot  $x_i$ *vs*  $i$  \n",
    "![](figures/Populations.png)\n",
    "* A: $\\mu = \\textrm{2.8}$, equilibration into single population\n",
    "* B:  $\\mu = \\textrm{3.3}$, oscillation between 2 population levels\n",
    "* C:  $\\mu = \\textrm{3.5}$ oscillation among 4 levels\n",
    "* D:    chaos"
   ]
  },
  {
   "cell_type": "markdown",
   "metadata": {},
   "source": [
    "### Attractors\n",
    "#### Fixed Points\n",
    "A *fixed point* is where $x_{i}$ stays at $x_{*}$ or returns after some finite number of iterations.\n",
    "\n",
    "For the equation:\n",
    "$$\n",
    "x_{i+1} = \\mu x_i (1-x_i)\n",
    "$$\n",
    "\n",
    "* A *One-cycle* fixed point would be: $x_{i+1} = x_{i} = x_{*}$\n",
    "  - If this happens, then we can figure out where:\n",
    "$$\n",
    "\\mu x_{*} (1-x_{*}) =  x_{*} \\quad \n",
    "\\implies\\  x_{*} = 0\\quad {\\rm or}\\quad \\frac{\\mu - 1}{\\mu}\n",
    "$$"
   ]
  },
  {
   "cell_type": "markdown",
   "metadata": {},
   "source": [
    "#### Period Doubling, Attractors\n",
    "Unstable via  Bifurcation into 2-Cycle\n",
    "\n",
    "* Attractors, cycle points\n",
    "* A *Two-cycle* fixed point would be same population in generations $i$ and $i+2$\n",
    "$$\n",
    "x_{i} = x_{i+2} = \\mu x_{i+1}(1-x_{i+1}) \\Rightarrow\n",
    "x_{*} = \\frac{1+\\mu \\pm \\sqrt{\\mu^{2}-2\\mu -\n",
    "3}}{2\\mu}\n",
    "$$\n",
    "* If $\\mu>3$: there are real solutions and we split from one value to two values for $x_*$.\n",
    "* As $\\mu$ increases this splitting from 1 $\\rightarrow$ 2 populations continues and bifurcates.\n",
    "\n",
    "Let's plot the value of $x_*$ vs. $\\mu$:\n",
    "\n",
    "![](figures/bugcolor2.png)"
   ]
  },
  {
   "cell_type": "markdown",
   "metadata": {},
   "source": [
    "Let's pause for a moment.  What is this diagram?  \n",
    "\n",
    "It is a plot of the final steady-state value $x_*$ for $f(x)=\\mu x(1-x)$.  For $\\mu<3$ there is only one such final steady-state value (fixed point).  For $\\mu>=3$, there are multiple such values."
   ]
  },
  {
   "cell_type": "code",
   "execution_count": 3,
   "metadata": {
    "collapsed": true
   },
   "outputs": [],
   "source": [
    "def logistic_map(x0, mu, N):\n",
    "    \"\"\"Calculate the logitistic map for the given input.\n",
    "       \n",
    "    x[i+1] = mu x[i] (1 - x[i])\n",
    "    \n",
    "    Inputs\n",
    "    ------\n",
    "    x0 -- Initial value for x.  [scalar]\n",
    "    mu -- Controlling logistic parameter.  [scalar]\n",
    "    \n",
    "    Outputs\n",
    "    -------\n",
    "    x -- Iterative values of logistic map.  Array of size N.\n",
    "    \n",
    "    Notes\n",
    "    -----\n",
    "    This really begs to be implemented as a recursive function\n",
    "    but Python doesn't support tail-end recursion, \n",
    "    so we would blow the stack for any significant N.\n",
    "    \"\"\"\n",
    "    import numpy as np\n",
    "    \n",
    "    x = np.zeros(N)\n",
    "    x[0] = x0\n",
    "    for i in range(N-1):\n",
    "        x[i+1] = mu*x[i]*(1-x[i])\n",
    "        \n",
    "    return x"
   ]
  },
  {
   "cell_type": "code",
   "execution_count": 11,
   "metadata": {
    "collapsed": true
   },
   "outputs": [],
   "source": [
    "%matplotlib inline\n",
    "import matplotlib.pyplot as plt"
   ]
  },
  {
   "cell_type": "code",
   "execution_count": 19,
   "metadata": {
    "collapsed": false
   },
   "outputs": [
    {
     "data": {
      "text/plain": [
       "<matplotlib.legend.Legend at 0x112cdc240>"
      ]
     },
     "execution_count": 19,
     "metadata": {},
     "output_type": "execute_result"
    },
    {
     "data": {
      "image/png": "[encoded data removed]",
      "text/plain": [
       "<matplotlib.figure.Figure at 0x112cdc278>"
      ]
     },
     "metadata": {},
     "output_type": "display_data"
    }
   ],
   "source": [
    "(x0, mu, N) = (0.1, 2, 50)\n",
    "x = {}\n",
    "for mu in (1, 2, 3, 4):\n",
    "    x[mu] = logistic_map(x0=x0, mu=mu, N=N)\n",
    "    plt.plot(x[mu], label='mu = %g' % mu)\n",
    "    \n",
    "plt.ylim(0,1.5)\n",
    "plt.legend(loc='upper left', ncol=2)"
   ]
  },
  {
   "cell_type": "markdown",
   "metadata": {},
   "source": [
    "Let's pause again.  How should we illustrate this behavior?  I.e., even once we understand the actual concept, what are we specifically plotting?  How do we represent the behavior of the system?  How should we visualize and explore the behavior?\n",
    " * We aren't varying intensity.\n",
    " * We're varying point density\n",
    " *  $3000 \\times 3000 \\simeq 10^7$ pts\n",
    " * To plot 3000 points over one page (11\") we need resolution $\\sim$  300 DPI\n",
    " * Big, more = waste\n",
    " * Create 1000 bins\n",
    " * $1 \\leq \\mu \\leq 4$\n",
    " * Print $x_{*}$  3-4 decimal places\n",
    " * Remove duplicates\n",
    " * Enlarge:  {self-similarity}\n",
    " *  Observe  windows"
   ]
  },
  {
   "cell_type": "markdown",
   "metadata": {},
   "source": [
    "Problem: Realistic Single or Double Pendulum\n",
    "\n",
    "Simulate Nonlinear, Chaotic System\n",
    "\n",
    "   * Driven single pendulum\n",
    "   * Free, double pendulum\n",
    "   * Large oscillations, even over-the-top\n",
    "\n",
    "![](figures/BothPends.png)"
   ]
  },
  {
   "cell_type": "markdown",
   "metadata": {},
   "source": [
    "### ODE\n",
    "\n",
    "#### Chaotic Pendulum ODE\n",
    "##### Newton's Laws for Rotational Motion   $\\sum \\tau \\,=\\, I \\ \\frac{d^2\\theta}{dt^2}$\n",
    "\n",
    "![](figures/SinglePend.png)\n",
    "\n",
    " *  Gravitation $\\tau$: $-mgl\\sin\\theta$\n",
    " * Friction $\\tau$:   $-\\beta\\dot{\\theta}$\n",
    " * External $\\tau$:  $\\tau_0\\cos \\,\\omega t$\n",
    "\n",
    "\n",
    "\\begin{align}\n",
    "I\\, \\frac{d^{2}\\theta} {dt^{2}} = &   - {mgl}\\, \\sin\\theta\n",
    " - \\beta \\, \\frac{d\\theta}{dt}\n",
    "  + \\tau_{0} \\cos\\omega t\n",
    " { \\frac{d^{2}\\theta} {dt^{2}}   =}  &\n",
    "  {-\\omega_{0}^{2}  \\,\\sin \\theta  -\\alpha \\,\\frac{d\\theta}{dt} +\n",
    "f\\cos\\omega t}\n",
    "\\end{align}\n",
    "\n",
    "$$\n",
    "\\omega_{0}    =  \\frac{mgl}{I},\\quad \\alpha =\n",
    "\\frac{\\beta}{I}, \\quad f =\\frac{\\tau_0}{I}\n",
    "$$"
   ]
  },
  {
   "cell_type": "markdown",
   "metadata": {},
   "source": [
    "#### Chaotic Pendulum ODE\n",
    "##### Standard ODE Form (rk4): $\\quad \\dot{\\vec{y}} = \\vec{f}(\\vec{y}, t)$}\n",
    "\n",
    "![](figures/SinglePend.png)\n",
    "\n",
    "\n",
    "  $$ \\frac{d^{2}\\theta}{dt^{2}}   =\n",
    "-\\omega_{0}^{2}  \\,\\sin \\theta  -\\alpha \\,\\frac{d\\theta}{dt} +\n",
    "f\\cos\\omega t\n",
    "$$\n",
    "\n",
    " * 2$^{nd}$ O t-dependent nonlinear ODE\n",
    "* Nonlinearity:  $\\sin\\theta \\simeq \\theta -\\theta^3/3! \\cdots$\n",
    " * $ y^{(0)} =  \\theta(t), \\quad y^{(1)} = \\frac{d\\theta(t)}{dt}$\n",
    "\n",
    "  \\begin{align}\n",
    "{\\frac{dy^{(0)}}{dt} \\ =\\ }&  {y^{(1)}}\n",
    "{\\frac{dy^{(1)}}{dt}  \\ =\\  }& {- \\omega_{0}^{2} \\sin y^{(0)} - \\alpha\n",
    "y^{(1)} + f\\cos\\omega t}\n",
    "\\end{align}"
   ]
  },
  {
   "cell_type": "markdown",
   "metadata": {},
   "source": [
    "### Free Pendulum\n",
    "\n",
    "#### Start Simply: Free Oscillations (Test Algorithm \\& Physics)\n",
    "Ignore Friction \\& External Torques ($f= \\alpha = 0$)\n",
    "\n",
    "![](figures/FreePend.png)\n",
    "\n",
    "\\begin{align}\n",
    " {\\ddot{\\theta}  =} & {-\\omega_{0}^{2} \\sin \\theta }  \\label{6}\n",
    "  \\ddot{\\theta} \\  \\simeq\\  & -\\omega_0^2 \\theta \\quad\\quad \\mbox{(linear,  $\\theta\\simeq 0$)}\\nonumber\n",
    " \\Rightarrow \\enskip\\theta(t) \\ =\\  & \\theta_{0} \\sin(\\omega_{0} t\n",
    "+ \\phi)\n",
    "\\end{align}\n",
    "\n",
    "''Analytic solution''; sort of:\n",
    "\n",
    "$$\n",
    " T  \\propto\n",
    "\\int_{0}^{\\theta_m}\\frac{d\\theta}{ \\left[\\sin^{2}({\\theta_m}/{2})\n",
    "- \\sin^{2}({\\theta}/{2})\\right]^{1/2}}\n",
    "$$"
   ]
  },
  {
   "cell_type": "markdown",
   "metadata": {},
   "source": [
    "#### Visualization: Phase Space Orbits\n",
    "##### Abstract Space: $v(t)$ vs $x(t)\\ $ ($x$ vs $t$, $v$ vs $t$= Complicated)}\n",
    "\n",
    "![](figures/Fig127Mod.png)\n",
    "\n",
    "* Geometry easy to \"see\"\n",
    "* SHM: Ellipse, $E\\rightarrow$ size\n",
    "* Anharmonic:  + corners\n",
    "\n",
    " * Ossc $\\implies$ CW Closed\n",
    " * Non Ossc, repulse = open\n",
    "\n",
    "\\begin{align}\n",
    "x(t)=&  A \\sin(\\omega t),\\quad v(t)   = \\omega A\n",
    "\\cos(\\omega t)\\quad (SHM)\n",
    "E  = & {\\rm KE} + {\\rm PE} =   m {v^{2}}/2 +\n",
    " \\omega^{2}m^{2}{x^{2}}/2=  \\mbox{ellipse}\n",
    "\\end{align}"
   ]
  },
  {
   "cell_type": "markdown",
   "metadata": {},
   "source": [
    "#### Undriven, Frictionless Pendulum in Phase Space\n",
    "\n",
    "Separatrix  Separates Open \\& Closed Orbits\n",
    "![](figures/Fig128leftMod.png)\n",
    "\n",
    "  * Closed: oscillation\n",
    "  * Open: rotation\n",
    "  * Both: periodic\n",
    " *  Orbits do not cross\n",
    "\n",
    " *  Open orbits touch\n",
    " * Hyperbolic points\n",
    " * Unstable equilibrium"
   ]
  },
  {
   "cell_type": "markdown",
   "metadata": {},
   "source": [
    "#### Include Friction, Driving Torque (small t steps)\n",
    "\n",
    "##### Geometry Tends to Remain\n",
    "\n",
    "![](figures/Limit.png)\n",
    "\n",
    " *  Friction $\\implies$ $\\downarrow$ E\n",
    " *  Inward Spiral\n",
    " * $\\tau_{\\rm ext}$ can put $E$ back\n",
    "\n",
    " * Limit cycle = Balance\n",
    " * $<\\tau_{\\rm ext}> \\ = \\ <\\mbox{friction}> $"
   ]
  },
  {
   "cell_type": "markdown",
   "metadata": {},
   "source": [
    "#### Chaos As Viewed in Phase Space (Full Solution)\n",
    "\n",
    "##### Look for in Your Simulations\n",
    "\n",
    "![](figures/PSplotPend.png)\n",
    "\n",
    "  * Complex $\\leq$ Chaos $\\leq$ Rand\n",
    "  * Fixed Params, all $x_0$, $t$s:  flows\n",
    "\n",
    " * Chaos complex $\\neq$ mess\n",
    " * Figs distort, remains\n",
    " * Closed = periodic\n",
    " * Simplicity in chaos [PS, $\\neq \\theta(t)$]\n",
    "  * $\\rightarrow$ attractors (return)\n",
    "  * Random = cloud fill $E$\n",
    "  * {Bands} $\\implies$ continuity, sequential\n",
    "  * $\\implies$ hypersensitive $\\theta(t)$\n",
    "  * Tools measure chaos"
   ]
  },
  {
   "cell_type": "markdown",
   "metadata": {},
   "source": [
    "### Double Pendulum\n",
    "#### Double Pendulum: Alternative Problem\n",
    "\n",
    "##### Chaos without External Torque or Friction\n",
    "![](figures/DoublePendPhoto.png})\n",
    "\n",
    "* No small-$\\theta$\n",
    "* Coupling = extra degree freedom\n",
    "* Small $\\theta$: in-$\\phi$, out-$\\phi$\n",
    "\n",
    "\n",
    "\\begin{align}\n",
    "L =& {\\rm KE}-{\\rm PE} =  (m_1+m_2) l_1^2\n",
    "\\dot{\\theta_1}^2/2 +  m_2l_2^2\\dot{\\theta_2}^2/2\\\\\n",
    "& +\\, m_2l_1l_2\n",
    "\\dot{\\theta_1}\\dot{\\theta_2}\\cos(\\theta_1-\\theta_2) +(m_1+m_2)g\n",
    "l_1\\cos\\theta_1 + m_2g l_2\\cos\\theta_2 \\nonumber\n",
    "\\Rightarrow\\quad & (m_1+m_2)l_1\\ddot{\\theta_1} +\n",
    "m_2l_2\\ddot{\\theta_2}\\cos(\\theta_1-\\theta_2) + m_2 l_2 \\dot{\\theta_2}^2\n",
    "\\sin(\\theta_1-\\theta_2)\n",
    "&\\quad + g(m_1+m_2)\\sin\\theta_1 = 0  \\nonumber\\\\\n",
    "&m_2l_2\\ddot{\\theta_2}+m_2l_1\\ddot{\\theta_1}\\cos(\\theta_1-\\theta_2)-\n",
    "m_2l_1\\dot{\\theta_1}^2\\sin(\\theta_1-\\theta_2)  +  mg\\sin\\theta_2 =\n",
    "0\n",
    "\\end{align}"
   ]
  },
  {
   "cell_type": "markdown",
   "metadata": {},
   "source": [
    "#### Double Pendulum: Bifurcations\n",
    "\n",
    "![](figures/DoublePend.png)\n",
    "![](figures/DoublePendBifur.png)"
   ]
  },
  {
   "cell_type": "markdown",
   "metadata": {},
   "source": []
  }
 ],
 "metadata": {
  "kernelspec": {
   "display_name": "Python 3",
   "language": "python",
   "name": "python3"
  },
  "language_info": {
   "codemirror_mode": {
    "name": "ipython",
    "version": 3
   },
   "file_extension": ".py",
   "mimetype": "text/x-python",
   "name": "python",
   "nbconvert_exporter": "python",
   "pygments_lexer": "ipython3",
   "version": "3.4.3"
  }
 },
 "nbformat": 4,
 "nbformat_minor": 0
}
